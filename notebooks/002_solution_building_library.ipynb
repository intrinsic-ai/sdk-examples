{
 "cells": [
  {
   "cell_type": "markdown",
   "metadata": {
    "colab_type": "text",
    "id": "92KXJT8DJY"
   },
   "source": [
    "# Introduction to the Solution Building Library\n",
    "\n",
    "This example notebook demonstrates the basics of using the Intrinsic Solution Building Library.\n",
    "\n",
    "<div class=\"alert alert-info\">\n",
    "\n",
    "**Important**\n",
    "\n",
    "This notebook requires a running Flowstate solution to connect to. To start a solution:\n",
    "\n",
    "1. Navigate to [portal.intrinsic.ai](https://portal.intrinsic.ai/) and sign in\n",
    "   using your registered Flowstate account.\n",
    "\n",
    "1. Do **one** of the following:\n",
    "    - Create a new solution:\n",
    "        1. Click \"Create new solution\" and choose \"From an example\".\n",
    "        1. Select `pick_and_place:pick_and_place_module2`\n",
    "        1. Click \"Create\".\n",
    "    - Or open an existing solution that was created from the `pick_and_place:pick_and_place_module2` example:\n",
    "        1. Hover over the solution in the list.\n",
    "        1. Click \"Open solution\" or \"Start solution\".\n",
    "\n",
    "1. Recommended: Keep the browser tab with the Flowstate solution editor open to watch the effect of notebook actions such as running a skill. You can simultaneously interact with the solution through the web UI and the notebook.\n",
    "\n",
    "</div>"
   ]
  },
  {
   "cell_type": "markdown",
   "metadata": {
    "colab_type": "text",
    "id": "DGH6UQ3DW7"
   },
   "source": [
    "## Connecting to a solution\n",
    "\n",
    "The first step when using the Solution Building Library is always to establish a connection to a deployed/running solution. In a notebook in VS Code, you can achieve this with the method `deployments.connect_to_selected_solution()` which requires that your running solution is selected as the target solution in the Intrinsic extension for VS Code.\n",
    "\n",
    "Navigate to the solution selector of the Intrinsic extension for VS Code (by clicking on the **Intrinsic** icon in the activity bar to the far left side of the VS Code window) and make sure your running solution is selected as the target solution. If you need more help with this step, please take a look at the guide for [installing a skill](https://developers.intrinsic.ai/guides/skill_authoring/first_skill#install-your-skill).\n",
    "\n",
    "![Select solution](images/select_solution.png)\n",
    "\n",
    "![Selected solution indicator](images/selected_solution_indicator.png)\n",
    "\n",
    "Once your solution is running and selected correctly, you can run the following:"
   ]
  },
  {
   "cell_type": "code",
   "execution_count": null,
   "metadata": {
    "colab_type": "code",
    "id": "APX8F0RYKH"
   },
   "outputs": [],
   "source": [
    "from intrinsic.solutions import deployments\n",
    "\n",
    "solution = deployments.connect_to_selected_solution()"
   ]
  },
  {
   "cell_type": "markdown",
   "metadata": {
    "colab_type": "text",
    "id": "J5GVYU6K5T"
   },
   "source": [
    "You should see:\n",
    "\n",
    "```\n",
    "Connecting to deployed solution...\n",
    "Connected successfully to \"<solution_name>(<build>)\" at \"<host>\".\n",
    "```\n",
    "\n",
    "Here you can check again that you are connected to the correct solution. If all looks correct, you can move on to exploring the solution."
   ]
  },
  {
   "cell_type": "markdown",
   "metadata": {
    "colab_type": "text",
    "id": "9NQY93XBIR"
   },
   "source": [
    "## Exploring the solution\n",
    "\n",
    "The `solution` object represents the running solution and is your top-level entry point. Its properties include:\n",
    "\n",
    "- `solution.executive`: controls the execution of your processes\n",
    "- `solution.resources`: represents the resources available in the solution\n",
    "- `solution.skills`: represents the skills available in the solution\n",
    "- `solution.world`: represents the belief world\n",
    "- `solution.simulator`: represents the simulation (only available if running in simulation)\n",
    "\n",
    "We typically define some convenience shortcuts for accessing these. This does not only save us some typing effort but also enables better auto-completion support in VS Code Jupyter:"
   ]
  },
  {
   "cell_type": "code",
   "execution_count": null,
   "metadata": {
    "colab_type": "code",
    "id": "UJ8H5ZRZ43"
   },
   "outputs": [],
   "source": [
    "executive = solution.executive\n",
    "resources = solution.resources\n",
    "skills = solution.skills\n",
    "world = solution.world\n",
    "simulator = solution.simulator"
   ]
  },
  {
   "cell_type": "markdown",
   "metadata": {
    "colab_type": "text",
    "id": "0ESDBNQPDU"
   },
   "source": [
    "Let's take a look at the available skills and resources in the solution. These are populated dynamically when connecting to a solution and are specific to the solution. You can either use `dir()`:"
   ]
  },
  {
   "cell_type": "code",
   "execution_count": null,
   "metadata": {
    "colab_type": "code",
    "id": "RZLHZMXRK7"
   },
   "outputs": [],
   "source": [
    "print(dir(skills))\n",
    "print(dir(resources))"
   ]
  },
  {
   "cell_type": "markdown",
   "metadata": {
    "colab_type": "text",
    "id": "JNIIZOQMHN"
   },
   "source": [
    "...or you can use auto-completion. Try typing `skills.` or `resources.` (followed by <kbd>Ctrl</kbd> + <kbd>Space</kbd> if necessary):"
   ]
  },
  {
   "cell_type": "code",
   "execution_count": null,
   "metadata": {
    "colab_type": "code",
    "id": "DNHVMCFHKV"
   },
   "outputs": [],
   "source": [
    "# Add '.' to the following lines\n",
    "skills\n",
    "resources"
   ]
  },
  {
   "cell_type": "markdown",
   "metadata": {
    "colab_type": "text",
    "id": "HRNAWAAMEJ"
   },
   "source": [
    "Note that this form of auto-completion based on runtime state is unreliable and does not work in all contexts. E.g., it might not work in nested contexts (try typing `print(skills.`)  or when accessing second-level properties (try typing `solution.skills.`)."
   ]
  },
  {
   "cell_type": "markdown",
   "metadata": {
    "colab_type": "text",
    "id": "1QOR6GO8T5"
   },
   "source": [
    "## Executive"
   ]
  },
  {
   "cell_type": "markdown",
   "metadata": {
    "colab_type": "text",
    "id": "6CAEMJGI8O"
   },
   "source": [
    "The `executive` is the main entrypoint for running skills and processes in the solution. To demonstrate its usage we first create a few sample skills so that we have *something* to execute. The following example skills here move the robot, so it will be easy to see the effect of running them in the Flowstate solution editor. Creating and parameterizing skills is explained in detail in the \"skills\" example notebook."
   ]
  },
  {
   "cell_type": "code",
   "execution_count": null,
   "metadata": {
    "colab_type": "code",
    "id": "VTF04TG2S5"
   },
   "outputs": [],
   "source": [
    "move_robot = skills.ai.intrinsic.move_robot\n",
    "\n",
    "# Moves the robot to the 'home' pose.\n",
    "move_skill_1 = move_robot(\n",
    "    motion_segments=[\n",
    "        move_robot.intrinsic_proto.skills.MotionSegment(\n",
    "            joint_position=world.robot.joint_configurations.home\n",
    "        )\n",
    "    ]\n",
    ")\n",
    "\n",
    "# Moves the robot to 'view_pose_left'.\n",
    "move_skill_2 = move_robot(\n",
    "    motion_segments=[\n",
    "        move_robot.intrinsic_proto.skills.MotionSegment(\n",
    "            joint_position=world.robot.joint_configurations.view_pose_left\n",
    "        )\n",
    "    ]\n",
    ")"
   ]
  },
  {
   "cell_type": "markdown",
   "metadata": {
    "colab_type": "text",
    "id": "SIM171NJN3"
   },
   "source": [
    "### Synchronous execution\n",
    "\n",
    "You can run a single skill like this:"
   ]
  },
  {
   "cell_type": "code",
   "execution_count": null,
   "metadata": {
    "colab_type": "code",
    "id": "MHU818JGGS"
   },
   "outputs": [],
   "source": [
    "executive.run(move_skill_2)"
   ]
  },
  {
   "cell_type": "markdown",
   "metadata": {
    "colab_type": "text",
    "id": "IH6Q8TWIIU"
   },
   "source": [
    " While the cell is executing, you can watch the robot move in the Flowstate solution editor.\n",
    "\n",
    " You can also run a sequence of skills:"
   ]
  },
  {
   "cell_type": "code",
   "execution_count": null,
   "metadata": {
    "colab_type": "code",
    "id": "KGSZ7GHQUX"
   },
   "outputs": [],
   "source": [
    "executive.run([move_skill_1, move_skill_2])"
   ]
  },
  {
   "cell_type": "markdown",
   "metadata": {
    "colab_type": "text",
    "id": "TLOGADIC8E"
   },
   "source": [
    "After the execution has started you will be able to see the sequence of skills that are being executed in the process editor of the Flowstate solution editor. Because we have passed skill instances directly to `executive.run()`, observe that the skills are unnamed and that the process is called `(untitled)`. This is useful for testing, but usually you should wrap skill instances inside of appropriate behavior tree nodes wrapped by a `BehaviorTree` instance at the top-level:"
   ]
  },
  {
   "cell_type": "code",
   "execution_count": null,
   "metadata": {
    "colab_type": "code",
    "id": "2Z79HPY43E"
   },
   "outputs": [],
   "source": [
    "from intrinsic.solutions import behavior_tree as bt\n",
    "\n",
    "tree = bt.BehaviorTree(\n",
    "    name=\"My first behavior tree\",\n",
    "    root=bt.Sequence(\n",
    "        [\n",
    "            bt.Task(action=move_skill_1, name=\"Some move\"),\n",
    "            bt.Task(action=move_skill_2, name=\"Another move\"),\n",
    "        ]\n",
    "    ),\n",
    ")\n",
    "\n",
    "executive.run(tree)"
   ]
  },
  {
   "cell_type": "markdown",
   "metadata": {
    "colab_type": "text",
    "id": "P7V0OA13UD"
   },
   "source": [
    "This gives you the same capabilities as the process editor of the Flowstate solution editor. E.g., it allows for naming nodes and opens up the possibility to use flow control nodes such as `Branch` or `Loop`. You can find more complex behavior trees in the other example notebooks.\n",
    "\n",
    "### Asynchronous execution\n",
    "\n",
    "Executing a behavior tree can take a while and `executive.run()` will block until the execution has finished. If you want to do something during execution, you can use `run_async`. E.g., you can observe the different state transitions inside the executive:"
   ]
  },
  {
   "cell_type": "code",
   "execution_count": null,
   "metadata": {
    "colab_type": "code",
    "id": "GDRUQ0S7FZ"
   },
   "outputs": [],
   "source": [
    "from intrinsic.executive.proto import behavior_tree_pb2\n",
    "\n",
    "\n",
    "def print_executive_state():\n",
    "    print(\n",
    "        \"Executive state:\",\n",
    "        behavior_tree_pb2.BehaviorTree.State.Name(\n",
    "            executive.operation.metadata.behavior_tree_state\n",
    "        ),\n",
    "    )\n",
    "\n",
    "\n",
    "def print_is_succeeded():\n",
    "    print(\n",
    "        \"Is succeeded:\",\n",
    "        executive.operation.metadata.behavior_tree_state\n",
    "        == behavior_tree_pb2.BehaviorTree.SUCCEEDED,\n",
    "    )\n",
    "\n",
    "\n",
    "print_executive_state()\n",
    "\n",
    "executive.run_async(tree)\n",
    "print_executive_state()\n",
    "\n",
    "executive.block_until_completed()\n",
    "print_executive_state()\n",
    "print_is_succeeded()"
   ]
  },
  {
   "cell_type": "markdown",
   "metadata": {
    "colab_type": "text",
    "id": "P4S138COJY"
   },
   "source": [
    "Note that `executive.operation.metadata` is a \"Protocol Buffer\" (proto) message. You can find all about using protos in Python in the official [Python Generated Code Guide]( https://protobuf.dev/reference/python/python-generated/).\n",
    "\n",
    "Here you can see the first transition to `RUNNING` and, after calling `executive.block_until_completed()`, you can see the transition to `SUCCEEDED`.\n",
    "\n",
    "You can also interrupt the execution of the behavior tree and resume it. This is done by using `executive.suspend()` and `executive.resume()` as follows:"
   ]
  },
  {
   "cell_type": "code",
   "execution_count": null,
   "metadata": {
    "colab_type": "code",
    "id": "M0TZV05TAV"
   },
   "outputs": [],
   "source": [
    "executive.run_async(tree)\n",
    "print_executive_state()\n",
    "\n",
    "executive.suspend()\n",
    "print_executive_state()\n",
    "\n",
    "executive.resume()\n",
    "print_executive_state()\n",
    "\n",
    "executive.block_until_completed()\n",
    "print_executive_state()"
   ]
  },
  {
   "cell_type": "markdown",
   "metadata": {
    "colab_type": "text",
    "id": "6MWHPBISMR"
   },
   "source": [
    "`executive.suspend()` waits for the first skill in the behavior tree to finish and then stops the executive. When `executive.resume()` is called the second skill get executed.\n",
    "Calling `executive.suspend()` while an action is running leads to the executive being in state `SUSPENDING` until the execution of the skill has finished.\n",
    "Only afterwards does the executive transition to `SUSPENDED` and therefore succeeds the `executive.suspend()` operation and continues with the program.\n",
    "\n",
    "If your executive ends up in `FAILED` state the errors are displayed automatically inside the notebook.\n",
    "\n",
    "You can cancel execution immediately (without the option to resume) by using `executive.cancel()` or `executive.cancel_async()`.\n",
    "\n",
    "Calling `executive.cancel()` while an action is running leads to the executive being in state `CANCELING` until the running skill finishes cancelling (or, if it does not support cancellation, finishes execution as usual). Afterwards, the executive ends in either the state `CANCELED` (if the cancellation was processed) or in `SUCCEEDED`/`FAILED` (if it finished in success/failure before processing the cancellation)."
   ]
  },
  {
   "cell_type": "code",
   "execution_count": null,
   "metadata": {
    "colab_type": "code",
    "id": "E1ROSPTZ12"
   },
   "outputs": [],
   "source": [
    "executive.run_async(tree)\n",
    "print_executive_state()\n",
    "\n",
    "executive.cancel()\n",
    "print_executive_state()"
   ]
  },
  {
   "cell_type": "markdown",
   "metadata": {
    "colab_type": "text",
    "id": "GONZ1CP3SV"
   },
   "source": [
    "## Resetting\n",
    "\n",
    "Various components of the solution can be reset separately from each other.\n",
    "\n",
    "If you have unsaved world modifications as a result of running certain skills or because you edited the belief world you can restore the belief world to its last saved state like this:"
   ]
  },
  {
   "cell_type": "code",
   "execution_count": null,
   "metadata": {
    "colab_type": "code",
    "id": "V6K6WRFIBO"
   },
   "outputs": [],
   "source": [
    "world.reset()"
   ]
  },
  {
   "cell_type": "markdown",
   "metadata": {
    "colab_type": "text",
    "id": "XUJV3B93BU"
   },
   "source": [
    "For more ways to interact with the belief world see the `003_world.ipynb` example.\n",
    "\n",
    "You can reset the simulation manually which is the same as clicking **Reset** in the **Simulator** tab of the [workcell designer](https://developers.intrinsic.ai/guides/workcell_design/workcell_overview) of the Flowstate solution editor. The simulation state will be reset to the state of the **Belief** world."
   ]
  },
  {
   "cell_type": "code",
   "execution_count": null,
   "metadata": {
    "colab_type": "code",
    "id": "R23CCOAXZF"
   },
   "outputs": [],
   "source": [
    "simulator.reset()"
   ]
  },
  {
   "cell_type": "markdown",
   "metadata": {
    "colab_type": "text",
    "id": "XN5LTGU0WF"
   },
   "source": [
    "\n",
    "If you want to restore the initial state of the executive you can reset it. This restores the initial plan and the executive ends up in state `ACCEPTED` after this."
   ]
  },
  {
   "cell_type": "code",
   "execution_count": null,
   "metadata": {
    "colab_type": "code",
    "id": "PYTYKX73K4"
   },
   "outputs": [],
   "source": [
    "executive.reset()\n",
    "print_executive_state()"
   ]
  },
  {
   "cell_type": "markdown",
   "metadata": {
    "colab_type": "text",
    "id": "1P6B2F6FXY"
   },
   "source": [
    "## Next steps\n",
    "\n",
    "Take a look at the following example notebooks to learn:\n",
    "\n",
    "- How to [interact with the world](003_world.ipynb).\n",
    "- How to [parameterize skill instances](004_skills.ipynb).\n",
    "- How to create behavior trees with control flow nodes such as [sequences](005_sequence.ipynb), [loops and branches](006_loop_and_branch.ipynb) or [retries](007_retry.ipynb)."
   ]
  }
 ],
 "metadata": {
  "colab": {},
  "kernelspec": {
   "display_name": "Python 3",
   "language": "python",
   "name": "python3"
  },
  "language_info": {
   "codemirror_mode": {
    "name": "ipython",
    "version": 3
   },
   "file_extension": ".py",
   "mimetype": "text/x-python",
   "name": "python",
   "nbconvert_exporter": "python",
   "pygments_lexer": "ipython3",
   "version": "3.10.14"
  }
 },
 "nbformat": 4,
 "nbformat_minor": 2
}
