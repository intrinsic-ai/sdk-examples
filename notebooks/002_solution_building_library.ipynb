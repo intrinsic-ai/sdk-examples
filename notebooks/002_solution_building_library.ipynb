{
  "cells": [
    {
      "cell_type": "markdown",
      "metadata": {
        "colab_type": "text",
        "id": "92KXJT8DJY"
      },
      "source": [
        "# Introduction to the Solution Building Library\n",
        "\n",
        "This example notebook demonstrates the basics of using the Intrinsic Solution Building Library.\n",
        "\n",
        "\u003cdiv class=\"alert alert-info\"\u003e\n",
        "\n",
        "**Important**\n",
        "\n",
        "This notebook requires a running Flowstate solution to connect to. To start a solution:\n",
        "\n",
        "1. Navigate to [flowstate.intrinsic.ai](https://flowstate.intrinsic.ai/) and sign in\n",
        "   using your registered Flowstate account.\n",
        "\n",
        "1. Do **one** of the following:\n",
        "    - Create a new solution:\n",
        "        1. Click \"Create new solution\" and choose \"From an example\".\n",
        "        1. Select `pick_and_place:pick_and_place_module2`\n",
        "        1. Click \"Create\".\n",
        "    - Or open an existing solution that was created from the `pick_and_place:pick_and_place_module2` example:\n",
        "        1. Hover over the solution in the list.\n",
        "        1. Click \"Open solution\" or \"Start solution\".\n",
        "\n",
        "1. Recommended: Keep the browser tab with the Flowstate solution editor open to watch the effect of notebook actions such as running a skill. You can simultaneously interact with the solution through the web UI and the notebook.\n",
        "\n",
        "\u003c/div\u003e"
      ]
    },
    {
      "cell_type": "markdown",
      "metadata": {
        "colab_type": "text",
        "id": "DGH6UQ3DW7"
      },
      "source": [
        "## Connecting to a solution\n",
        "\n",
        "The first step when using the Solution Building Library is always to establish a connection to a deployed/running solution. In a notebook in VS Code, you can achieve this with the method `deployments.connect_to_selected_solution()` which requires that your running solution is selected as the target solution in the Intrinsic extension for VS Code.\n",
        "\n",
        "Navigate to the solution selector of the Intrinsic extension for VS Code (by clicking on the **Intrinsic** icon in the activity bar to the far left side of the VS Code window) and make sure your running solution is selected as the target solution. If you need more help with this step, please take a look at the guide for [connecting VS Code to an Intrinsic project](https://flowstate.intrinsic.ai/docs/guides/build_with_code/connect_vscode_to_cloud/).\n",
        "\n",
        "![Select solution](images/select_solution.png)\n",
        "\n",
        "![Selected solution indicator](images/selected_solution_indicator.png)\n",
        "\n",
        "Once your solution is running and selected correctly, you can run the following:"
      ]
    },
    {
      "cell_type": "code",
      "execution_count": null,
      "metadata": {
        "colab_type": "code",
        "id": "APX8F0RYKH"
      },
      "outputs": [],
      "source": [
        "from intrinsic.solutions import deployments\n",
        "\n",
        "solution = deployments.connect_to_selected_solution()"
      ]
    },
    {
      "cell_type": "markdown",
      "metadata": {
        "colab_type": "text",
        "id": "J5GVYU6K5T"
      },
      "source": [
        "You should see:\n",
        "\n",
        "```\n",
        "Connecting to deployed solution...\n",
        "Connected successfully to \"\u003csolution_name\u003e(\u003cbuild\u003e)\" at \"\u003chost\u003e\".\n",
        "```\n",
        "\n",
        "Here you can check again that you are connected to the correct solution. If all looks correct, you can move on to exploring the solution."
      ]
    },
    {
      "cell_type": "markdown",
      "metadata": {
        "colab_type": "text",
        "id": "9NQY93XBIR"
      },
      "source": [
        "## Exploring the solution\n",
        "\n",
        "The `solution` object represents the running solution and is your top-level entry point. Its properties include:\n",
        "\n",
        "- `solution.executive`: controls the execution of your processes\n",
        "- `solution.resources`: represents the resources available in the solution\n",
        "- `solution.skills`: represents the skills available in the solution\n",
        "- `solution.world`: represents the belief world\n",
        "- `solution.simulator`: represents the simulation (only available if running in simulation)\n",
        "\n",
        "We typically define some convenience shortcuts for accessing these. This does not only save us some typing effort but also enables better auto-completion support in VS Code Jupyter:"
      ]
    },
    {
      "cell_type": "code",
      "execution_count": null,
      "metadata": {
        "colab_type": "code",
        "id": "UJ8H5ZRZ43"
      },
      "outputs": [],
      "source": [
        "executive = solution.executive\n",
        "resources = solution.resources\n",
        "skills = solution.skills\n",
        "world = solution.world\n",
        "simulator = solution.simulator"
      ]
    },
    {
      "cell_type": "markdown",
      "metadata": {
        "colab_type": "text",
        "id": "0ESDBNQPDU"
      },
      "source": [
        "Let's take a look at the available skills and resources in the solution. These are populated dynamically when connecting to a solution and are specific to the solution."
      ]
    },
    {
      "cell_type": "code",
      "execution_count": null,
      "metadata": {
        "colab_type": "code",
        "id": "RZLHZMXRK7"
      },
      "outputs": [],
      "source": [
        "list(skills.get_skill_ids())"
      ]
    },
    {
      "cell_type": "code",
      "execution_count": null,
      "metadata": {
        "colab_type": "code",
        "id": "76B9XT82HV"
      },
      "outputs": [],
      "source": [
        "dir(resources)"
      ]
    },
    {
      "cell_type": "markdown",
      "metadata": {
        "colab_type": "text",
        "id": "JNIIZOQMHN"
      },
      "source": [
        "In VS Code you can also use auto-completion - to a limited extent. First execute the following cell:"
      ]
    },
    {
      "cell_type": "code",
      "execution_count": null,
      "metadata": {
        "colab_type": "code",
        "id": "Y2J7CWNDLP"
      },
      "outputs": [],
      "source": [
        "intrinsic_skills = skills.ai.intrinsic"
      ]
    },
    {
      "cell_type": "markdown",
      "metadata": {
        "colab_type": "text",
        "id": "870ZFWMKN3"
      },
      "source": [
        "And now try typing `intrinsic_skills.` or `resources.` (followed by \u003ckbd\u003eCtrl\u003c/kbd\u003e + \u003ckbd\u003eSpace\u003c/kbd\u003e if necessary):"
      ]
    },
    {
      "cell_type": "code",
      "execution_count": null,
      "metadata": {
        "colab_type": "code",
        "id": "DNHVMCFHKV"
      },
      "outputs": [],
      "source": [
        "# Add '.' to the following lines\n",
        "intrinsic_skills\n",
        "resources"
      ]
    },
    {
      "cell_type": "markdown",
      "metadata": {
        "colab_type": "text",
        "id": "HRNAWAAMEJ"
      },
      "source": [
        "This form of auto-completion based on runtime state is unreliable and does not work in all contexts. E.g., it might not work in nested contexts (try typing `print(skills.`)  or when accessing nested properties (try typing `skills.ai.intrinsic.`). See the section on language support below on how to get better auto-completion and IDE support.\n",
        "\n",
        "## Updating the solution object\n",
        "\n",
        "If you are running interactively in a notebook, some changes to your solution will require you to re-initialize the Solution Building Library for the changes to have an effect in the running notebook. Generally, you can always re-connect to the running solution and thereby update the solution object:"
      ]
    },
    {
      "cell_type": "code",
      "execution_count": null,
      "metadata": {
        "colab_type": "code",
        "id": "8NI4LSSPJE"
      },
      "outputs": [],
      "source": [
        "solution = deployments.connect_to_selected_solution()\n",
        "\n",
        "# Update any shortcuts to properties and nested properties of the solution\n",
        "skills = solution.skills\n",
        "move_robot = skills.ai.intrinsic.move_robot"
      ]
    },
    {
      "cell_type": "markdown",
      "metadata": {
        "colab_type": "text",
        "id": "9EWGSCSIZ1"
      },
      "source": [
        "If you installed a new or modified skill, you can selectively update the skills provider:"
      ]
    },
    {
      "cell_type": "code",
      "execution_count": null,
      "metadata": {
        "colab_type": "code",
        "id": "37QEZIFSJB"
      },
      "outputs": [],
      "source": [
        "skills.update()\n",
        "\n",
        "# Update any shortcuts to properties and nested properties of skills\n",
        "move_robot = skills.ai.intrinsic.move_robot"
      ]
    },
    {
      "cell_type": "markdown",
      "metadata": {
        "colab_type": "text",
        "id": "1TIYGKJR4C"
      },
      "source": [
        "If you added or removed resources, you can selectively update the resources provider:"
      ]
    },
    {
      "cell_type": "code",
      "execution_count": null,
      "metadata": {
        "colab_type": "code",
        "id": "YI1JXKWTGP"
      },
      "outputs": [],
      "source": [
        "resources.update()"
      ]
    },
    {
      "cell_type": "markdown",
      "metadata": {
        "colab_type": "text",
        "id": "QGX8SVPPF3"
      },
      "source": [
        "## Language support in VS Code and other IDEs\n",
        "\n",
        "The Solution Building Library dynamically creates several helper classes when you connect to a solution. For example, `skills.ai.intrinsic.move_robot` is a helper class for the `move_robot` skill which only exists if the skill is installed in the solution. If the skill is present, the class `skills.ai.intrinsic.move_robot` matches the skill version which is currently installed in the solution. I.e., if you connect to different solution, `skills.ai.intrinsic.move_robot` might be different.\n",
        "\n",
        "Dynamically created classes can be a challenge to work with if you don't know how. In the following we first show a few simple and reliable solutions and then we show how you can get full language support in your IDE by creating stubs for the Solution Building Library.\n",
        "\n",
        "### Basic language support\n",
        "\n",
        "To get information about a dynamically created class **you can always** inspect the class object at runtime, e.g., by using `help()` or functions from the `inspect` module:"
      ]
    },
    {
      "cell_type": "code",
      "execution_count": null,
      "metadata": {
        "colab_type": "code",
        "id": "TULWPPDT8V"
      },
      "outputs": [],
      "source": [
        "help(skills.ai.intrinsic.move_robot)"
      ]
    },
    {
      "cell_type": "markdown",
      "metadata": {
        "colab_type": "text",
        "id": "P0MIZVD46L"
      },
      "source": [
        "Some IDEs have functionality to access this information in a more direct way - without manually calling `help()`. In VS Code, you can use the **Jupyter PowerToys** extension:\n",
        "\n",
        "1. Click on the **Jupyter** icon \u003cimg src=\"https://raw.githubusercontent.com/microsoft/vscode-codicons/6ceb091d5c40da3e5836e3d80b08d3f74efc4cbf/src/icons/notebook.svg\" width=\"25\"\u003e in the activity bar (to the far left side of the VS Code window).\n",
        "1. Place your cursor, e.g., on `move_robot` in the cell below or select any other code in a code cell.\n",
        "1. See the `help` output shown live under **CONTEXTUAL HELP** in the sidebar (to the left side of the VS Code window)."
      ]
    },
    {
      "cell_type": "code",
      "execution_count": null,
      "metadata": {
        "colab_type": "code",
        "id": "875EPYSTTY"
      },
      "outputs": [],
      "source": [
        "# Place your cursor on 'move_robot' and check the contextual help output in the sidebar.\n",
        "skills.ai.intrinsic.move_robot"
      ]
    },
    {
      "cell_type": "markdown",
      "metadata": {
        "colab_type": "text",
        "id": "0I8O1JNM0H"
      },
      "source": [
        "\n",
        "You can also check out the [live animation of the contextual help feature](https://github.com/microsoft/vscode-jupyter-powertoys?tab=readme-ov-file#contextual-help) on the Jupyter PowerToys website."
      ]
    },
    {
      "cell_type": "markdown",
      "metadata": {
        "colab_type": "text",
        "id": "HQ6DH0E7I2"
      },
      "source": [
        "### Advanced language support through Python stubs\n",
        "\n",
        "To work with the Solution Building Library in a more comfortable way we highly recommend that you create custom [Python stubs](https://typing.readthedocs.io/en/latest/source/stubs.html) for your solution and configure your IDE or type checker to use them. In the following steps we use the example of VS Code but the process is similar for other IDEs and type checkers.\n",
        "\n",
        "\u003cdiv class=\"alert alert-info\"\u003e\n",
        "\n",
        "**Important**\n",
        "\n",
        "The stubs generated by the Solution Building Library are specific to a solution. They match the skills installed in the solution at their respective version. The stubs need to be updated everytime you connect to a different solution and everytime you install a new or modified skill in the solution.\n",
        "\n",
        "\u003c/div\u003e\n",
        "\n",
        "**Step 1 - Find/configure stub location**\n",
        "\n",
        "If you use the Intrinsic devcontainer, the stub-related settings should all be set to their defaults and the stub files are expected to be in `${workspaceFolder}/typings`. We recommend that you leave it this way. If you want to check or customize the stub path then you need to check/change the VS Code setting `python.analysis.stubPath`. By default it is set to the value `typings` which is a path relative to your workspace folder.\n",
        "\n",
        "**Step 2 - Create stubs**\n",
        "\n",
        "Create stubs for the solution you are currently connected to. Make sure that your are writing the stubs to the location identified/configured in the previous step."
      ]
    },
    {
      "cell_type": "code",
      "execution_count": null,
      "metadata": {
        "colab_type": "code",
        "id": "1OKP97OFHD"
      },
      "outputs": [],
      "source": [
        "# Change 'output_path' as needed!\n",
        "solution.generate_stubs(output_path=\"typings\")"
      ]
    },
    {
      "cell_type": "markdown",
      "metadata": {
        "colab_type": "text",
        "id": "OSFS1G7YHC"
      },
      "source": [
        "VS Code by default executes Python notebooks in the folder of the respective notebook and Python scripts are always executed in the workspace folder. Thus, when using the VS Code default settings, you typically would use the following output paths:\n",
        "\n",
        "| Path of notebook or script  | output_path |\n",
        "| -------- | ------- |\n",
        "| `${workspaceFolder}/my_notebook.ipynb`  | `typings` |\n",
        "| `${workspaceFolder}/foo/my_notebook.ipynb`  | `../typings` |\n",
        "| `${workspaceFolder}/foo/bar/my_notebook.ipynb`  | `../../typings` |\n",
        "| `${workspaceFolder}/my_script.py`  | `typings` |\n",
        "| `${workspaceFolder}/foo/my_script.py`  | `typings` |\n",
        "| `${workspaceFolder}/foo/bar/my_script.py`  | `typings` |\n",
        "\n",
        "If you are generating stubs from a notebook and something is not working, make sure to check the VS Code setting `jupyter.notebookFileRoot` which controls in which folder notebooks are executed.\n",
        "\n",
        "**Step 3 - Reload stubs (if required)**\n",
        "\n",
        "Make sure that your IDE or type checker picks up the changes. VS Code's language server for Python (Pylance) often does not automatically pick up changes to the stub folder. To force a restart of the language server, you can do **any** of the following:\n",
        "\n",
        "- Reload the VS Code window, e.g., by running the **Developer: Reload Window** command\n",
        "- Restart the Python language server by running the **Python: Restart Language Server** command (**this command is only visible when a .py-file is opened in the editor**!)\n",
        "- Restart VS Code\n",
        "\n",
        "**Step 4 - Verify that stubs are working**\n",
        "\n",
        "There are various quick ways to confirm that the stubs are being found and used. In VS Code, e.g., in the following cell right-click on `move_robot` and choose **Go to declaration**. If the file `providers.pyi` inside of the stubs folder is opened, everything is setup correctly. Also, you should get a pretty tooltip with parameter hints if you place your cursor inside of the parentheses of `move_robot()` and press \u003ckbd\u003eCTRL\u003c/kbd\u003e + \u003ckbd\u003eSPACE\u003c/kbd\u003e."
      ]
    },
    {
      "cell_type": "code",
      "execution_count": null,
      "metadata": {
        "colab_type": "code",
        "id": "T8Z3EIBJXB"
      },
      "outputs": [],
      "source": [
        "a = skills.ai.intrinsic.move_robot()"
      ]
    },
    {
      "cell_type": "markdown",
      "metadata": {
        "colab_type": "text",
        "id": "1QOR6GO8T5"
      },
      "source": [
        "## Executive"
      ]
    },
    {
      "cell_type": "markdown",
      "metadata": {
        "colab_type": "text",
        "id": "6CAEMJGI8O"
      },
      "source": [
        "The `executive` is the main entrypoint for running skills and processes in the solution. To demonstrate its usage we first create a few sample skills so that we have *something* to execute. The following example skills here move the robot, so it will be easy to see the effect of running them in the Flowstate solution editor. Creating and parameterizing skills is explained in detail in the \"skills\" example notebook."
      ]
    },
    {
      "cell_type": "code",
      "execution_count": null,
      "metadata": {
        "colab_type": "code",
        "id": "VTF04TG2S5"
      },
      "outputs": [],
      "source": [
        "move_robot = skills.ai.intrinsic.move_robot\n",
        "\n",
        "# Moves the robot to the 'home' pose.\n",
        "move_skill_1 = move_robot(\n",
        "    motion_segments=[\n",
        "        move_robot.intrinsic_proto.skills.MotionSegment(\n",
        "            joint_position=world.robot.joint_configurations.home,\n",
        "            motion_type=move_robot.intrinsic_proto.skills.MotionSegment.MotionType.JOINT,\n",
        "        )\n",
        "    ],\n",
        "    arm_part=world.robot,\n",
        ")\n",
        "\n",
        "# Moves the robot to 'view_pose_left'.\n",
        "move_skill_2 = move_robot(\n",
        "    motion_segments=[\n",
        "        move_robot.intrinsic_proto.skills.MotionSegment(\n",
        "            joint_position=world.robot.joint_configurations.view_pose_left,\n",
        "            motion_type=move_robot.intrinsic_proto.skills.MotionSegment.MotionType.JOINT,\n",
        "        )\n",
        "    ],\n",
        "    arm_part=world.robot,\n",
        ")"
      ]
    },
    {
      "cell_type": "markdown",
      "metadata": {
        "colab_type": "text",
        "id": "SIM171NJN3"
      },
      "source": [
        "### Synchronous execution\n",
        "\n",
        "You can run a single skill like this:"
      ]
    },
    {
      "cell_type": "code",
      "execution_count": null,
      "metadata": {
        "colab_type": "code",
        "id": "MHU818JGGS"
      },
      "outputs": [],
      "source": [
        "executive.run(move_skill_2)"
      ]
    },
    {
      "cell_type": "markdown",
      "metadata": {
        "colab_type": "text",
        "id": "IH6Q8TWIIU"
      },
      "source": [
        " While the cell is executing, you can watch the robot move in the Flowstate solution editor.\n",
        "\n",
        " You can also run a sequence of skills:"
      ]
    },
    {
      "cell_type": "code",
      "execution_count": null,
      "metadata": {
        "colab_type": "code",
        "id": "KGSZ7GHQUX"
      },
      "outputs": [],
      "source": [
        "executive.run([move_skill_1, move_skill_2])"
      ]
    },
    {
      "cell_type": "markdown",
      "metadata": {
        "colab_type": "text",
        "id": "TLOGADIC8E"
      },
      "source": [
        "After the execution has started you will be able to see the sequence of skills that are being executed in the process editor of the Flowstate solution editor. Because we have passed skill instances directly to `executive.run()`, observe that the skills are unnamed and that the process is called `(untitled)`. This is useful for testing, but usually you should wrap skill instances inside of appropriate behavior tree nodes wrapped by a `BehaviorTree` instance at the top-level:"
      ]
    },
    {
      "cell_type": "code",
      "execution_count": null,
      "metadata": {
        "colab_type": "code",
        "id": "2Z79HPY43E"
      },
      "outputs": [],
      "source": [
        "from intrinsic.solutions import behavior_tree as bt\n",
        "\n",
        "tree = bt.BehaviorTree(\n",
        "    name=\"My first behavior tree\",\n",
        "    root=bt.Sequence(\n",
        "        [\n",
        "            bt.Task(action=move_skill_1, name=\"Some move\"),\n",
        "            bt.Task(action=move_skill_2, name=\"Another move\"),\n",
        "        ]\n",
        "    ),\n",
        ")\n",
        "\n",
        "executive.run(tree)"
      ]
    },
    {
      "cell_type": "markdown",
      "metadata": {
        "colab_type": "text",
        "id": "P7V0OA13UD"
      },
      "source": [
        "This gives you the same capabilities as the process editor of the Flowstate solution editor. E.g., it allows for naming nodes and opens up the possibility to use flow control nodes such as `Branch` or `Loop`. You can find more complex behavior trees in the other example notebooks.\n",
        "\n",
        "### Asynchronous execution\n",
        "\n",
        "Executing a behavior tree can take a while and `executive.run()` will block until the execution has finished. If you want to do something during execution, you can use `run_async`. E.g., you can observe the different state transitions inside the executive:"
      ]
    },
    {
      "cell_type": "code",
      "execution_count": null,
      "metadata": {
        "colab_type": "code",
        "id": "GDRUQ0S7FZ"
      },
      "outputs": [],
      "source": [
        "from intrinsic.executive.proto import behavior_tree_pb2\n",
        "\n",
        "\n",
        "def print_executive_state():\n",
        "    print(\n",
        "        \"Executive state:\",\n",
        "        behavior_tree_pb2.BehaviorTree.State.Name(\n",
        "            executive.operation.metadata.behavior_tree_state\n",
        "        ),\n",
        "    )\n",
        "\n",
        "\n",
        "def print_is_succeeded():\n",
        "    print(\n",
        "        \"Is succeeded:\",\n",
        "        executive.operation.metadata.behavior_tree_state\n",
        "        == behavior_tree_pb2.BehaviorTree.SUCCEEDED,\n",
        "    )\n",
        "\n",
        "\n",
        "print_executive_state()\n",
        "\n",
        "executive.run_async(tree)\n",
        "print_executive_state()\n",
        "\n",
        "executive.block_until_completed()\n",
        "print_executive_state()\n",
        "print_is_succeeded()"
      ]
    },
    {
      "cell_type": "markdown",
      "metadata": {
        "colab_type": "text",
        "id": "P4S138COJY"
      },
      "source": [
        "Note that `executive.operation.metadata` is a \"Protocol Buffer\" (proto) message. You can find all about using protos in Python in the official [Python Generated Code Guide]( https://protobuf.dev/reference/python/python-generated/).\n",
        "\n",
        "Here you can see the first transition to `RUNNING` and, after calling `executive.block_until_completed()`, you can see the transition to `SUCCEEDED`.\n",
        "\n",
        "You can also interrupt the execution of the behavior tree and resume it. This is done by using `executive.suspend()` and `executive.resume()` as follows:"
      ]
    },
    {
      "cell_type": "code",
      "execution_count": null,
      "metadata": {
        "colab_type": "code",
        "id": "M0TZV05TAV"
      },
      "outputs": [],
      "source": [
        "executive.run_async(tree)\n",
        "print_executive_state()\n",
        "\n",
        "executive.suspend()\n",
        "print_executive_state()\n",
        "\n",
        "executive.resume()\n",
        "print_executive_state()\n",
        "\n",
        "executive.block_until_completed()\n",
        "print_executive_state()"
      ]
    },
    {
      "cell_type": "markdown",
      "metadata": {
        "colab_type": "text",
        "id": "6MWHPBISMR"
      },
      "source": [
        "`executive.suspend()` waits for the first skill in the behavior tree to finish and then stops the executive. When `executive.resume()` is called the second skill get executed.\n",
        "Calling `executive.suspend()` while an action is running leads to the executive being in state `SUSPENDING` until the execution of the skill has finished.\n",
        "Only afterwards does the executive transition to `SUSPENDED` and therefore succeeds the `executive.suspend()` operation and continues with the program.\n",
        "\n",
        "If your executive ends up in `FAILED` state the errors are displayed automatically inside the notebook.\n",
        "\n",
        "You can cancel execution immediately (without the option to resume) by using `executive.cancel()` or `executive.cancel_async()`.\n",
        "\n",
        "Calling `executive.cancel()` while an action is running leads to the executive being in state `CANCELING` until the running skill finishes cancelling (or, if it does not support cancellation, finishes execution as usual). Afterwards, the executive ends in either the state `CANCELED` (if the cancellation was processed) or in `SUCCEEDED`/`FAILED` (if it finished in success/failure before processing the cancellation)."
      ]
    },
    {
      "cell_type": "code",
      "execution_count": null,
      "metadata": {
        "colab_type": "code",
        "id": "E1ROSPTZ12"
      },
      "outputs": [],
      "source": [
        "executive.run_async(tree)\n",
        "print_executive_state()\n",
        "\n",
        "executive.cancel()\n",
        "print_executive_state()"
      ]
    },
    {
      "cell_type": "markdown",
      "metadata": {
        "colab_type": "text",
        "id": "GONZ1CP3SV"
      },
      "source": [
        "## Resetting\n",
        "\n",
        "Various components of the solution can be reset separately from each other.\n",
        "\n",
        "If you have unsaved world modifications as a result of running certain skills or because you edited the belief world you can restore the belief world to its last saved state like this:"
      ]
    },
    {
      "cell_type": "code",
      "execution_count": null,
      "metadata": {
        "colab_type": "code",
        "id": "V6K6WRFIBO"
      },
      "outputs": [],
      "source": [
        "world.reset()"
      ]
    },
    {
      "cell_type": "markdown",
      "metadata": {
        "colab_type": "text",
        "id": "XUJV3B93BU"
      },
      "source": [
        "For more ways to interact with the belief world see the `003_world.ipynb` example.\n",
        "\n",
        "You can reset the simulation manually which is the same as clicking **Reset** in the **Simulator** tab of the [workcell designer](https://developers.intrinsic.ai/guides/workcell_design/workcell_overview) of the Flowstate solution editor. The simulation state will be reset to the state of the **Belief** world."
      ]
    },
    {
      "cell_type": "code",
      "execution_count": null,
      "metadata": {
        "colab_type": "code",
        "id": "R23CCOAXZF"
      },
      "outputs": [],
      "source": [
        "simulator.reset()"
      ]
    },
    {
      "cell_type": "markdown",
      "metadata": {
        "colab_type": "text",
        "id": "XN5LTGU0WF"
      },
      "source": [
        "\n",
        "If you want to restore the initial state of the executive you can reset it. This restores the initial plan and the executive ends up in state `ACCEPTED` after this."
      ]
    },
    {
      "cell_type": "code",
      "execution_count": null,
      "metadata": {
        "colab_type": "code",
        "id": "PYTYKX73K4"
      },
      "outputs": [],
      "source": [
        "executive.reset()\n",
        "print_executive_state()"
      ]
    },
    {
      "cell_type": "markdown",
      "metadata": {
        "colab_type": "text",
        "id": "1P6B2F6FXY"
      },
      "source": [
        "## Next steps\n",
        "\n",
        "Take a look at the following example notebooks to learn:\n",
        "\n",
        "- How to [interact with the world](003_world.ipynb).\n",
        "- How to [parameterize skill instances](004_skills.ipynb).\n",
        "- How to create behavior trees with control flow nodes such as [sequences](005_sequence.ipynb), [loops and branches](006_loop_and_branch.ipynb) or [retries](007_retry.ipynb)."
      ]
    }
  ],
  "metadata": {
    "colab": {},
    "kernelspec": {
      "display_name": "Python 3",
      "language": "python",
      "name": "python3"
    },
    "language_info": {
      "codemirror_mode": {
        "name": "ipython",
        "version": 3
      },
      "file_extension": ".py",
      "mimetype": "text/x-python",
      "name": "python",
      "nbconvert_exporter": "python",
      "pygments_lexer": "ipython3",
      "version": "3.11.9"
    }
  },
  "nbformat": 4,
  "nbformat_minor": 2
}
