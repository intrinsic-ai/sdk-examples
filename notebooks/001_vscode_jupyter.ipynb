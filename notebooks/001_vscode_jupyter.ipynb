{
 "cells": [
  {
   "cell_type": "markdown",
   "metadata": {
    "colab_type": "text",
    "id": "USD9S926E2"
   },
   "source": [
    "# Getting started with Jupyter in VS Code\n",
    "\n",
    "This example notebook gives a quick overview on how to use Jupyter in VS Code, including the most important keyboard shortcuts.\n",
    "\n",
    "Please also refer to the much more detailed [official documentation][vscode-jupyter-docs].\n",
    "\n",
    "[vscode-jupyter-docs]: https://code.visualstudio.com/docs/datascience/jupyter-notebooks"
   ]
  },
  {
   "cell_type": "markdown",
   "metadata": {
    "colab_type": "text",
    "id": "IPEUK1O8RL"
   },
   "source": [
    "## Running notebooks\n",
    "\n",
    "Jupyter notebooks are organized into cells. A cell is a block of code (or text). Cells can be executed by clicking on the **Run** icon to the left of the cell or using a keyboard shortcut.\n",
    "\n",
    "![Run Icon](https://code.visualstudio.com/assets/docs/datascience/jupyter/native-code-run.png)\n",
    "\n",
    "Try out the keyboard shortcut by clicking on the first code cell below (such that a cursor in the cell is shown) and press <kbd>Ctrl</kbd> + <kbd>Enter</kbd> a few times. This will repeatedly execute the first cell. Then try out pressing <kbd>Shift</kbd> + <kbd>Enter</kbd>. This will run the current cell and advance to the next one.\n"
   ]
  },
  {
   "cell_type": "code",
   "execution_count": null,
   "metadata": {
    "colab_type": "code",
    "id": "WCS3VHB6HN"
   },
   "outputs": [],
   "source": [
    "import datetime\n",
    "\n",
    "a = f\"Hello world from the first code cell. The time is {datetime.datetime.now()}\"\n",
    "print(a)"
   ]
  },
  {
   "cell_type": "code",
   "execution_count": null,
   "metadata": {
    "colab_type": "code",
    "id": "2IYDAGJUTC"
   },
   "outputs": [],
   "source": [
    "b = f\"Hello world from the second code cell. The time is {datetime.datetime.now()}\"\n",
    "print(b)"
   ]
  },
  {
   "cell_type": "markdown",
   "metadata": {
    "colab_type": "text",
    "id": "PXNSRYP1A0"
   },
   "source": [
    "The cells get executed by a persistent Python kernel. It maintains its internal state, so the variable `a` also exists for the next cell:"
   ]
  },
  {
   "cell_type": "code",
   "execution_count": null,
   "metadata": {
    "colab_type": "code",
    "id": "D8JHJ79Y9D"
   },
   "outputs": [],
   "source": [
    "print(a)"
   ]
  },
  {
   "cell_type": "markdown",
   "metadata": {
    "colab_type": "text",
    "id": "5138XH80XN"
   },
   "source": [
    "Because of this internal state the result of running a cell depends on what was previously run. Try running the next cell and then (re-)run the previous  cell (`print(a)`) again:"
   ]
  },
  {
   "cell_type": "code",
   "execution_count": null,
   "metadata": {
    "colab_type": "code",
    "id": "6RAWZBX9AQ"
   },
   "outputs": [],
   "source": [
    "a = \"another hello world\""
   ]
  },
  {
   "cell_type": "markdown",
   "metadata": {
    "colab_type": "text",
    "id": "SXFPKJWB50"
   },
   "source": [
    "## Code completion and language support\n",
    "\n",
    "IntelliSense works similarly in notebooks as it works when editing regular py-files in VS Code. Auto-completion can suggest completions based on static code analysis but will also add suggestions based on runtime inspection of the variables in the persistent Python kernel.\n",
    "\n",
    "By default auto-completion triggers when you type <kbd>.</kbd>, but you can also trigger it manually using the **Trigger Suggest** command (<kbd>Ctrl</kbd> + <kbd>Space</kbd>). Try it out in the following cell. Place your cursor after the dot between `a` and `capitalize()` and press <kbd>Ctrl</kbd> + <kbd>Space</kbd> to see the list of available methods:"
   ]
  },
  {
   "cell_type": "code",
   "execution_count": null,
   "metadata": {
    "colab_type": "code",
    "id": "XFBV7MHJX1"
   },
   "outputs": [],
   "source": [
    "a.capitalize()"
   ]
  },
  {
   "cell_type": "markdown",
   "metadata": {
    "colab_type": "text",
    "id": "B5NZ4QRF5E"
   },
   "source": [
    "The **Trigger Parameter Hints** command (<kbd>Ctrl</kbd> + <kbd>Shift</kbd> + <kbd>Space</kbd>) can show you the documentation of an object or a method. In the next cell, move the cursor inside the parentheses and press <kbd>Ctrl</kbd> + <kbd>Shift</kbd> + <kbd>Space</kbd>. A tooltip will popup showing the methods signature and docstring:\n"
   ]
  },
  {
   "cell_type": "code",
   "execution_count": null,
   "metadata": {
    "colab_type": "code",
    "id": "RJT15RPT14"
   },
   "outputs": [],
   "source": [
    "a.find(\"world\")"
   ]
  },
  {
   "cell_type": "markdown",
   "metadata": {
    "colab_type": "text",
    "id": "KKHEYLBV92"
   },
   "source": [
    "## Next steps\n",
    "\n",
    "Take a look at the following example notebooks to learn:\n",
    "\n",
    "- How to [get started with the Solution Building Library](002_solution_building_library.ipynb).\n",
    "- How to [interact with the world](003_world.ipynb).\n",
    "- How to [parameterize skill instances](004_skills.ipynb).\n",
    "- How to create behavior trees with control flow nodes such as [sequences](005_sequence.ipynb), [loops and branches](006_loop_and_branch.ipynb) or [retries](007_retry.ipynb)."
   ]
  }
 ],
 "metadata": {
  "colab": {},
  "kernelspec": {
   "display_name": "Python 3",
   "language": "python",
   "name": "python3"
  },
  "language_info": {
   "codemirror_mode": {
    "name": "ipython",
    "version": 3
   },
   "file_extension": ".py",
   "mimetype": "text/x-python",
   "name": "python",
   "nbconvert_exporter": "python",
   "pygments_lexer": "ipython3",
   "version": "3.10.14"
  }
 },
 "nbformat": 4,
 "nbformat_minor": 2
}
