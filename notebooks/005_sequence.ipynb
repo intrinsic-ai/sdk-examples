{
  "cells": [
    {
      "cell_type": "markdown",
      "metadata": {
        "colab_type": "text",
        "id": "7F6VFLZWLL"
      },
      "source": [
        "# Pick and place sequence\n",
        "\n",
        "This example notebook demonstrates how to create a sequential pick-and-place process.\n",
        "\n",
        "In particular, this example covers:\n",
        "\n",
        "- Behavior tree nodes\n",
        "    - `Task`\n",
        "    - `Sequence`\n",
        "    - `SubTree`\n",
        "\n",
        "<div class=\"alert alert-info\">\n",
        "\n",
        "**Important**\n",
        "\n",
        "This notebook requires a running Flowstate solution to connect to. To start a solution:\n",
        "\n",
        "1. Navigate to [portal.intrinsic.ai](https://portal.intrinsic.ai/) and sign in\n",
        "   using your registered Flowstate account.\n",
        "\n",
        "1. Do **one** of the following:\n",
        "    - Create a new solution:\n",
        "        1. Click \"Create new solution\" and choose \"From an example\".\n",
        "        1. Select `pick_and_place:pick_and_place_module2`\n",
        "        1. Click \"Create\".\n",
        "    - Or open an existing solution that was created from the `pick_and_place:pick_and_place_module2` example:\n",
        "        1. Hover over the solution in the list.\n",
        "        1. Click \"Open solution\" or \"Start solution\".\n",
        "\n",
        "1. Recommended: Keep the browser tab with the Flowstate solution editor open to watch the effect of notebook actions such as running a skill. You can simultaneously interact with the solution through the web UI and the notebook.\n",
        "\n",
        "</div>"
      ]
    },
    {
      "cell_type": "markdown",
      "metadata": {
        "colab_type": "text",
        "id": "QKCPB78EKF"
      },
      "source": [
        "First, connect and define convenience shortcuts:"
      ]
    },
    {
      "cell_type": "code",
      "execution_count": null,
      "metadata": {
        "colab_type": "code",
        "id": "WXJ5EQH3OQ"
      },
      "outputs": [],
      "source": [
        "from intrinsic.math.python import data_types\n",
        "from intrinsic.solutions import deployments\n",
        "from intrinsic.solutions import behavior_tree as bt\n",
        "\n",
        "solution = deployments.connect_to_selected_solution()\n",
        "\n",
        "executive = solution.executive\n",
        "resources = solution.resources\n",
        "skills = solution.skills\n",
        "world = solution.world\n",
        "simulator = solution.simulator\n",
        "\n",
        "attach_object_to_robot = skills.ai.intrinsic.attach_object_to_robot\n",
        "control_suction_gripper = skills.ai.intrinsic.control_suction_gripper\n",
        "detach_object = skills.ai.intrinsic.detach_object\n",
        "enable_gripper = skills.ai.intrinsic.enable_gripper\n",
        "move_robot = skills.ai.intrinsic.move_robot\n",
        "plan_grasp = skills.ai.intrinsic.plan_grasp"
      ]
    },
    {
      "cell_type": "markdown",
      "metadata": {
        "colab_type": "text",
        "id": "3OFTGFGQ3S"
      },
      "source": [
        "Create the required skills:"
      ]
    },
    {
      "cell_type": "code",
      "execution_count": null,
      "metadata": {
        "colab_type": "code",
        "id": "TWTIFBIB8G"
      },
      "outputs": [],
      "source": [
        "collisions_disabled = move_robot.intrinsic_proto.world.CollisionSettings(\n",
        "    disable_collision_checking=True\n",
        ")\n",
        "\n",
        "init_gripper = enable_gripper(\n",
        "    clear_faults=True, gripper=resources.picobot_gripper)\n",
        "\n",
        "move_home = move_robot(\n",
        "    motion_segments=[\n",
        "        move_robot.intrinsic_proto.skills.MotionSegment(\n",
        "            joint_position=world.robot.joint_configurations.home,\n",
        "            motion_type=move_robot.intrinsic_proto.skills.MotionSegment.MotionType.ANY,\n",
        "        )\n",
        "    ]\n",
        ")\n",
        "\n",
        "# Moves the global frames `world.grasp_frame` and `world.pregrasp_frame` to\n",
        "# suitable grasp/pregrasp positions above the building block.\n",
        "plan_block_grasp = plan_grasp(\n",
        "    objects=[world.building_block0],\n",
        "    tool_frame=world.picobot_gripper.tool_frame,\n",
        "    advanced_params=(\n",
        "        plan_grasp.intrinsic_proto.manipulation.skills.PlanGraspAdvancedParams(\n",
        "            product_part_name=\"building_block\",\n",
        "            output_pregrasp_frame=world.pregrasp_frame,\n",
        "            output_grasp_frame=world.grasp_frame,\n",
        "        )\n",
        "    ),\n",
        ")\n",
        "\n",
        "move_pregrasp = move_robot(\n",
        "    motion_segments=[\n",
        "        move_robot.intrinsic_proto.skills.MotionSegment(\n",
        "            cartesian_pose=move_robot.intrinsic_proto.world.geometric_constraints.PoseEquality(\n",
        "                moving_frame=world.picobot_gripper.tool_frame,\n",
        "                target_frame=world.pregrasp_frame,\n",
        "            ),\n",
        "            motion_type=move_robot.intrinsic_proto.skills.MotionSegment.MotionType.ANY,\n",
        "        )\n",
        "    ]\n",
        ")\n",
        "\n",
        "# Move to grasp pose: Disable collision checking because at the end of the move\n",
        "# the gripper tip will touch the building block.\n",
        "move_grasp_unsafe = move_robot(\n",
        "    motion_segments=[\n",
        "        move_robot.intrinsic_proto.skills.MotionSegment(\n",
        "            cartesian_pose=move_robot.intrinsic_proto.world.geometric_constraints.PoseEquality(\n",
        "                moving_frame=world.picobot_gripper.tool_frame,\n",
        "                target_frame=world.grasp_frame,\n",
        "            ),\n",
        "            motion_type=move_robot.intrinsic_proto.skills.MotionSegment.LINEAR,\n",
        "            collision_settings=collisions_disabled,\n",
        "        )\n",
        "    ]\n",
        ")\n",
        "\n",
        "# Turn on the suction gripper which will \"attach\" the building block in the\n",
        "# simulation/real world.\n",
        "grasp = control_suction_gripper(\n",
        "    grasp=control_suction_gripper.intrinsic_proto.eoat.GraspRequest()\n",
        ")\n",
        "\n",
        "# Reparent building block to the robot in the belief world so that the building block\n",
        "# in the belief world will move together with the robot.\n",
        "attach_block = attach_object_to_robot(\n",
        "    gripper_entity=world.picobot_gripper, object_entity=world.building_block0\n",
        ")\n",
        "\n",
        "# Retract up by 3cm. Disable collision checking because we expect collisions at the beginning\n",
        "# of the move.\n",
        "# - Right after grasping, the attached block is in collision with the tray.\n",
        "# - Right after releasing, the gripper tip is in collision with the building block.\n",
        "move_up_unsafe = move_robot(\n",
        "    motion_segments=[\n",
        "        move_robot.intrinsic_proto.skills.MotionSegment(\n",
        "            cartesian_pose=move_robot.intrinsic_proto.world.geometric_constraints.PoseEquality(\n",
        "                moving_frame=world.picobot_gripper.tool_frame,\n",
        "                target_frame=world.picobot_gripper.tool_frame,\n",
        "                target_frame_offset=data_types.Pose3(\n",
        "                    translation=[0, 0, -0.03]),\n",
        "            ),\n",
        "            motion_type=move_robot.intrinsic_proto.skills.MotionSegment.LINEAR,\n",
        "            collision_settings=collisions_disabled,\n",
        "        )\n",
        "    ]\n",
        ")\n",
        "\n",
        "move_drop = move_robot(\n",
        "    motion_segments=[\n",
        "        move_robot.intrinsic_proto.skills.MotionSegment(\n",
        "            cartesian_pose=move_robot.intrinsic_proto.world.geometric_constraints.PoseEquality(\n",
        "                moving_frame=world.picobot_gripper.tool_frame,\n",
        "                target_frame=world.target_right,\n",
        "                target_frame_offset=data_types.Pose3(\n",
        "                    rotation=data_types.Rotation3.from_euler_angles(\n",
        "                        rpy_degrees=[180, 0, 90]\n",
        "                    ),\n",
        "                    translation=[0, 0, 0.05],\n",
        "                ),\n",
        "            ),\n",
        "            motion_type=move_robot.intrinsic_proto.skills.MotionSegment.MotionType.ANY,\n",
        "        )\n",
        "    ]\n",
        ")\n",
        "\n",
        "# Turn off the suction gripper which will \"drop\" the building block in the\n",
        "# simulation/real world.\n",
        "release = control_suction_gripper(\n",
        "    release=control_suction_gripper.intrinsic_proto.eoat.ReleaseRequest()\n",
        ")\n",
        "\n",
        "# Reparent building block back to the world root in the belief world.\n",
        "detach = detach_object(\n",
        "    gripper_entity=world.picobot_gripper, object_entity=world.building_block0\n",
        ")"
      ]
    },
    {
      "cell_type": "markdown",
      "metadata": {
        "colab_type": "text",
        "id": "YHDWXQ4UUS"
      },
      "source": [
        "Then you can simply put all the skills in a `bt.Sequence` and execute them one after the other:"
      ]
    },
    {
      "cell_type": "code",
      "execution_count": null,
      "metadata": {
        "colab_type": "code",
        "id": "MGHH7HJK2L"
      },
      "outputs": [],
      "source": [
        "world.reset()\n",
        "\n",
        "sequence = bt.Sequence(\n",
        "    [\n",
        "        init_gripper,\n",
        "        move_home,\n",
        "        plan_block_grasp,\n",
        "        move_pregrasp,\n",
        "        move_grasp_unsafe,\n",
        "        grasp,\n",
        "        attach_block,\n",
        "        move_up_unsafe,\n",
        "        move_drop,\n",
        "        release,\n",
        "        detach,\n",
        "        move_up_unsafe,\n",
        "        move_home,\n",
        "    ]\n",
        ")\n",
        "\n",
        "executive.run(sequence)"
      ]
    },
    {
      "cell_type": "markdown",
      "metadata": {
        "colab_type": "text",
        "id": "PZSH25R4R4"
      },
      "source": [
        "However, that makes it hard to see any structure in the visual representation of the process as it gets displayed in the Flowstate solution editor. The use of named `SubTree` and `Task` nodes makes this much cleaner. And it will also make it easy to re-use parts of the sequence, insert steps or to add failure handling or looping."
      ]
    },
    {
      "cell_type": "code",
      "execution_count": null,
      "metadata": {
        "colab_type": "code",
        "id": "SOGC92JPG9"
      },
      "outputs": [],
      "source": [
        "world.reset()\n",
        "simulator.reset()\n",
        "\n",
        "initialize = bt.SubTree(\n",
        "    name=\"Initialize\",\n",
        "    behavior_tree=bt.Sequence(\n",
        "        [\n",
        "            bt.Task(action=init_gripper, name=\"Enable gripper\"),\n",
        "            bt.Task(action=move_home, name=\"Move home\"),\n",
        "        ]\n",
        "    ),\n",
        ")\n",
        "\n",
        "pick_object = bt.SubTree(\n",
        "    name=\"Pick Object\",\n",
        "    behavior_tree=bt.Sequence(\n",
        "        [\n",
        "            bt.Task(action=plan_block_grasp, name=\"Plan grasp\"),\n",
        "            bt.Task(action=move_pregrasp, name=\"Move to pregrasp\"),\n",
        "            bt.Task(action=move_grasp_unsafe, name=\"Move to grasp\"),\n",
        "            bt.Task(action=grasp, name=\"Grasp block\"),\n",
        "            bt.Task(action=attach_block, name=\"Attach block\"),\n",
        "            bt.Task(action=move_up_unsafe, name=\"Move up after grasp\"),\n",
        "        ]\n",
        "    ),\n",
        ")\n",
        "\n",
        "place_object = bt.SubTree(\n",
        "    name=\"Place Object\",\n",
        "    behavior_tree=bt.Sequence(\n",
        "        [\n",
        "            bt.Task(action=move_drop, name=\"Move to drop\"),\n",
        "            bt.Task(action=release, name=\"Release block\"),\n",
        "            bt.Task(action=detach, name=\"Detach block\"),\n",
        "            bt.Task(action=move_up_unsafe, name=\"Move up after drop\"),\n",
        "            bt.Task(action=move_home, name=\"Move back home\"),\n",
        "        ]\n",
        "    ),\n",
        ")\n",
        "\n",
        "pick_and_place = bt.BehaviorTree(\n",
        "    name=\"Pick and place\", root=bt.Sequence([initialize, pick_object, place_object])\n",
        ")\n",
        "\n",
        "executive.run(pick_and_place)"
      ]
    },
    {
      "cell_type": "markdown",
      "metadata": {
        "colab_type": "text",
        "id": "1U0MIWUN74"
      },
      "source": [
        "You can also visualize the behavior tree in-line in Jupyter. Note, however, that this visualization differs from the visualization in the Flowstate solution editor. In Jupyter, the tree structure of the behavior tree gets rendered directly (with the child nodes of a parent node arranged from left to right) whereas in the solution editor the tree gets rendered similar to a flow chart (e.g., the children of a `Sequence` node get arranged top to bottom and are connected with arrows). Despite these differences in visualization, the underlying data is the same (a behavior tree)."
      ]
    },
    {
      "cell_type": "code",
      "execution_count": null,
      "metadata": {
        "colab_type": "code",
        "id": "9AXMXRRKD5"
      },
      "outputs": [],
      "source": [
        "pick_object.show()"
      ]
    },
    {
      "cell_type": "code",
      "execution_count": null,
      "metadata": {
        "colab_type": "code",
        "id": "R9NVLEQ1Q9"
      },
      "outputs": [],
      "source": [
        "pick_and_place.show()"
      ]
    }
  ],
  "metadata": {
    "colab": {},
    "kernelspec": {
      "display_name": "Python 3",
      "language": "python",
      "name": "python3"
    },
    "language_info": {
      "codemirror_mode": {
        "name": "ipython",
        "version": 3
      },
      "file_extension": ".py",
      "mimetype": "text/x-python",
      "name": "python",
      "nbconvert_exporter": "python",
      "pygments_lexer": "ipython3",
      "version": "3.11.9"
    }
  },
  "nbformat": 4,
  "nbformat_minor": 2
}
