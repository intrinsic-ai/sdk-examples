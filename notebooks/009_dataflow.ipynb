{
  "cells": [
    {
      "attachments": {},
      "cell_type": "markdown",
      "id": "10bd53a7-e3a1-4b7d-9e53-1f494c7d081c",
      "metadata": {
        "colab_type": "text",
        "id": "X4E5K738U0"
      },
      "source": [
        "# Dataflow using skill return values and parameters\n",
        "\n",
        "This example notebook demonstrates moving over a couple of objects:\n",
        "\n",
        "- Use `estimate_pose` skill to detect objects\n",
        "- Pass information retrieved as return value from one skill as a parameter to another skill\n",
        "\n",
        "In particular, this example covers:\n",
        "\n",
        "- Behavior tree features\n",
        "    - Skill return values\n",
        "    - Passing data to a skill using a blackboard value for parameters\n",
        "    - Use the loop counter of a `Loop` node\n",
        "    - Write a custom condition expression\n",
        "\n",
        "\u003cdiv class=\"alert alert-info\"\u003e\n",
        "\n",
        "**Important**\n",
        "\n",
        "This notebook requires a running Flowstate solution to connect to. To start a solution:\n",
        "\n",
        "1. Navigate to [flowstate.intrinsic.ai](https://flowstate.intrinsic.ai/) and sign in\n",
        "   using your registered Flowstate account.\n",
        "\n",
        "1. Do **one** of the following:\n",
        "    - Create a new solution:\n",
        "        1. Click \"Create new solution\" and choose \"From an example\".\n",
        "        1. Select `building_block:building_block_module2`\n",
        "        1. Click \"Create\".\n",
        "    - Or open an existing solution that was created from the `building_block:building_block_module2` example:\n",
        "        1. Hover over the solution in the list.\n",
        "        1. Click \"Open solution\" or \"Start solution\".\n",
        "\n",
        "1. Recommended: Keep the browser tab with the Flowstate solution editor open to watch the effect of notebook actions such as running a skill. You can simultaneously interact with the solution through the web UI and the notebook.\n",
        "\n",
        "\u003c/div\u003e"
      ]
    },
    {
      "attachments": {},
      "cell_type": "markdown",
      "id": "aea0e6c7",
      "metadata": {
        "colab_type": "text",
        "id": "L6VR4NF89Z"
      },
      "source": [
        "First, connect to your solution and define convenience shortcuts:"
      ]
    },
    {
      "cell_type": "code",
      "execution_count": null,
      "id": "3cae1246-41d3-41d5-ae09-98bd27655558",
      "metadata": {
        "colab_type": "code",
        "id": "KRGUJ850IU"
      },
      "outputs": [],
      "source": [
        "from intrinsic.math.python import data_types\n",
        "from intrinsic.solutions import behavior_tree as bt\n",
        "from intrinsic.solutions import deployments\n",
        "from intrinsic.solutions import worlds\n",
        "\n",
        "solution = deployments.connect_to_selected_solution()\n",
        "\n",
        "executive = solution.executive\n",
        "world = solution.world\n",
        "skills = solution.skills\n",
        "resources = solution.resources\n",
        "\n",
        "move_robot = skills.ai.intrinsic.move_robot\n",
        "estimate_pose = skills.ai.intrinsic.estimate_pose"
      ]
    },
    {
      "cell_type": "markdown",
      "id": "64463d22",
      "metadata": {
        "colab_type": "text",
        "id": "CL12IAPCH8"
      },
      "source": [
        "# Create the Behavior Tree"
      ]
    },
    {
      "attachments": {},
      "cell_type": "markdown",
      "id": "f0a0aeea-159f-4113-9bac-91b03fe07c33",
      "metadata": {
        "colab_type": "text",
        "id": "SNYM4FXBFT"
      },
      "source": [
        "First, define most of the necessary skills. The overall flow is to move to a home position, then identify blocks in the workcell, and then move to the first one seen."
      ]
    },
    {
      "cell_type": "code",
      "execution_count": null,
      "id": "61f60a65-0c2e-4b1e-9283-9af5320da5ba",
      "metadata": {
        "colab_type": "code",
        "id": "OODWTC3ZWI"
      },
      "outputs": [],
      "source": [
        "move_home = bt.Task(\n",
        "    name=\"Move to Home\",\n",
        "    action=move_robot(\n",
        "        motion_segments=[\n",
        "            move_robot.intrinsic_proto.skills.MotionSegment(\n",
        "                joint_position=world.robot.joint_configurations.home,\n",
        "                motion_type=move_robot.intrinsic_proto.skills.MotionSegment.MotionType.ANY,\n",
        "            )\n",
        "        ],\n",
        "        arm_part=world.robot,\n",
        "    ),\n",
        ")\n",
        "\n",
        "move_to_view = bt.Task(\n",
        "    name=\"Move to view\",\n",
        "    action=move_robot(\n",
        "        motion_segments=[\n",
        "            move_robot.intrinsic_proto.skills.MotionSegment(\n",
        "                joint_position=move_robot.intrinsic_proto.icon.JointVec(\n",
        "                    # Known configuration in which the pose estimator has been trained\n",
        "                    joints=[-1.176, -1.934, -1.897, -0.746, 2.199, 0.922]\n",
        "                ),\n",
        "                motion_type=move_robot.intrinsic_proto.skills.MotionSegment.MotionType.ANY,\n",
        "            )\n",
        "        ],\n",
        "        arm_part=world.robot,\n",
        "    ),\n",
        ")"
      ]
    },
    {
      "attachments": {},
      "cell_type": "markdown",
      "id": "14536db7-1196-491e-9e66-de1a2df56fbd",
      "metadata": {
        "colab_type": "text",
        "id": "1T64TRNN5G"
      },
      "source": [
        "Now, for using the return values. Return values are available as a key-value map located in the executive. When creating your application, you will only have to interact with the keys of the values, as the actual values will be computed during execution and available using the key.\n",
        "\n",
        "Every skill you create has a property `result` which can be used to later access the result value. You can also use auto-completion on this, even if the value is not yet available.\n",
        "Instantiate the estimate pose skill and have a look."
      ]
    },
    {
      "cell_type": "code",
      "execution_count": null,
      "id": "df3908ee-0157-4269-96a8-758ca511c2f4",
      "metadata": {
        "colab_type": "code",
        "id": "8R1YTA58AE"
      },
      "outputs": [],
      "source": [
        "estimate_blocks = bt.Task(\n",
        "    name=\"Detect block\",\n",
        "    action=estimate_pose(\n",
        "        camera=resources.wrist_camera,\n",
        "        pose_estimator=solution.pose_estimators.building_block_ml_estimator,\n",
        "        min_num_instances=1,\n",
        "        max_num_instances=6,\n",
        "        # Raise object position by 4cm to avoid collision when using as approach pose\n",
        "        object_t_target=data_types.Pose3(translation=[0, 0, -0.04]),\n",
        "    ),\n",
        ")"
      ]
    },
    {
      "attachments": {},
      "cell_type": "markdown",
      "id": "50e34dce-e818-4011-a703-9f81d9d79e60",
      "metadata": {
        "colab_type": "text",
        "id": "T7JZ3M995Z"
      },
      "source": [
        "Using the following coude, you can print the generated name for the result value of the skill. It will be used during execution to look up the actual pose values."
      ]
    },
    {
      "cell_type": "code",
      "execution_count": null,
      "id": "35f494a8-9d16-40c1-8ab0-830af3a069dd",
      "metadata": {
        "colab_type": "code",
        "id": "ZSKOU36MFA"
      },
      "outputs": [],
      "source": [
        "estimate_blocks.result.value_access_path()"
      ]
    },
    {
      "attachments": {},
      "cell_type": "markdown",
      "id": "eb2d7b70-a9dd-4228-8a03-e99264f2192e",
      "metadata": {
        "colab_type": "text",
        "id": "HXEGA5IN6W"
      },
      "source": [
        "Next, since you want to move over all available blocks use a loop node."
      ]
    },
    {
      "cell_type": "code",
      "execution_count": null,
      "id": "21770119-c4e2-4e3d-946b-9dae3cbb641f",
      "metadata": {
        "colab_type": "code",
        "id": "X9QNV2E7JV"
      },
      "outputs": [],
      "source": [
        "loop_node = bt.Loop(name=\"Iterate over Blocks\")"
      ]
    },
    {
      "attachments": {},
      "cell_type": "markdown",
      "id": "28589a77-819c-457f-aa30-a31d9d30e252",
      "metadata": {
        "colab_type": "text",
        "id": "280ZS5RB3K"
      },
      "source": [
        "Since you want to iterate over the available blocks you can use the loop counter to access a value in the estimate array. \u003cbr\u003e\n",
        "Again, the loop counter is only a string value denoting the key of the index in the key value map. During execution this key will be used to look up the current value of the loop counter. It will only be available inside the loop and is cleared as soon as the loop exits."
      ]
    },
    {
      "cell_type": "code",
      "execution_count": null,
      "id": "1ca28d32-6756-4a84-825a-8fb0f39b0183",
      "metadata": {
        "colab_type": "code",
        "id": "ME5RQAQDAR"
      },
      "outputs": [],
      "source": [
        "loop_node.loop_counter"
      ]
    },
    {
      "attachments": {},
      "cell_type": "markdown",
      "id": "00c2d453-8331-4e3c-9be5-8de50723701b",
      "metadata": {
        "colab_type": "text",
        "id": "KG1IJYM4BG"
      },
      "source": [
        "Now, put everything together by creating a target for and instance of the `move_robot` skill, which takes the pose from the `estimate_connectors` skill and uses the loop counter as an index in the list."
      ]
    },
    {
      "cell_type": "code",
      "execution_count": null,
      "id": "80845d41-b8a0-4c43-804b-a20518556801",
      "metadata": {
        "colab_type": "code",
        "id": "YPN3G702P1"
      },
      "outputs": [],
      "source": [
        "block_target = move_robot.intrinsic_proto.world.geometric_constraints.PoseEquality(\n",
        "    moving_frame=world.picobot_gripper.tool_frame,\n",
        "    target_frame=world.root,\n",
        "    # The following resolves to a blackboard value and is thus computed at execution time\n",
        "    target_frame_offset=estimate_blocks.result.estimates[\n",
        "        loop_node.loop_counter\n",
        "    ].root_t_target,\n",
        ")\n",
        "move_to_block = bt.Task(\n",
        "    name=\"Move to block\",\n",
        "    action=move_robot(\n",
        "        motion_segments=[\n",
        "            move_robot.intrinsic_proto.skills.MotionSegment(\n",
        "                cartesian_pose=block_target,\n",
        "                motion_type=move_robot.intrinsic_proto.skills.MotionSegment.JOINT,\n",
        "            )\n",
        "        ],\n",
        "        arm_part=world.robot,\n",
        "    ),\n",
        ")"
      ]
    },
    {
      "attachments": {},
      "cell_type": "markdown",
      "id": "0c8f1cdd",
      "metadata": {
        "colab_type": "text",
        "id": "V2NBKJKDYO"
      },
      "source": [
        "Now we can fully configure the loop. We set a condition that limits iteration to the detected objects, such that the loop counter (used as index into the pose estimator result list) does not run out of bounds. The condition is given as a [CEL](https://github.com/google/cel-spec/blob/master/doc/intro.md) expression using the identifiers we inspected before. The condition will be evaluated once before each loop iteration, like in a programming language's while statement."
      ]
    },
    {
      "cell_type": "code",
      "execution_count": null,
      "id": "535f6848",
      "metadata": {
        "colab_type": "code",
        "id": "TMX0DR3ES9"
      },
      "outputs": [],
      "source": [
        "loop_node.set_while_condition(\n",
        "    bt.Blackboard(\n",
        "        f\"size({estimate_blocks.result.estimates.value_access_path()}) \u003e {loop_node.loop_counter}\"\n",
        "    )\n",
        ")\n",
        "loop_node.set_do_child(move_to_block)"
      ]
    },
    {
      "attachments": {},
      "cell_type": "markdown",
      "id": "682be62a",
      "metadata": {
        "colab_type": "text",
        "id": "19M6X001C0"
      },
      "source": [
        "Now we put the created nodes together into a sequence for the tree. We can visualize the created tree."
      ]
    },
    {
      "cell_type": "code",
      "execution_count": null,
      "id": "432b6722",
      "metadata": {
        "colab_type": "code",
        "id": "QMR4RAK3HM"
      },
      "outputs": [],
      "source": [
        "my_bt = bt.BehaviorTree(\n",
        "    root=bt.Sequence([move_home, move_to_view, estimate_blocks, loop_node])\n",
        ")\n",
        "my_bt.show()"
      ]
    },
    {
      "attachments": {},
      "cell_type": "markdown",
      "id": "fd7c3925",
      "metadata": {
        "colab_type": "text",
        "id": "2MV3UMQLZE"
      },
      "source": [
        "# Run Behavior Tree"
      ]
    },
    {
      "cell_type": "code",
      "execution_count": null,
      "id": "d8b12d36-6a18-44d2-a4a7-c53f9627d61a",
      "metadata": {
        "colab_type": "code",
        "id": "DY80T94YCK"
      },
      "outputs": [],
      "source": [
        "executive.run(my_bt)"
      ]
    },
    {
      "cell_type": "markdown",
      "id": "c55b7050",
      "metadata": {
        "colab_type": "text",
        "id": "0JSKO3HIYY"
      },
      "source": [
        "## Inspect return value of pose estimation skill\n",
        "\n",
        "The `estimate_pose` skill returns a list of estimates for recognized objects. After execution, inspect the result value of the `estimate_blocks` instance of that skill."
      ]
    },
    {
      "cell_type": "code",
      "execution_count": null,
      "id": "59b5c8ba",
      "metadata": {
        "colab_type": "code",
        "id": "1UNLFG7XCF"
      },
      "outputs": [],
      "source": [
        "executive.get_value(estimate_blocks.result)"
      ]
    }
  ],
  "metadata": {
    "colab": {},
    "kernelspec": {
      "display_name": "Python 3 (ipykernel)",
      "language": "python",
      "name": "python3"
    },
    "language_info": {
      "codemirror_mode": {
        "name": "ipython",
        "version": 3
      },
      "file_extension": ".py",
      "mimetype": "text/x-python",
      "name": "python",
      "nbconvert_exporter": "python",
      "pygments_lexer": "ipython3",
      "version": "3.11.9"
    }
  },
  "nbformat": 4,
  "nbformat_minor": 5
}
