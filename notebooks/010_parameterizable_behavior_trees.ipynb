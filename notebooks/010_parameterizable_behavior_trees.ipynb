{
  "cells": [
    {
      "cell_type": "markdown",
      "id": "e18aa7c4-ddde-4cc6-87f8-5dc05c0147a5",
      "metadata": {
        "colab_type": "text",
        "id": "VSV7PWGG7A"
      },
      "source": [
        "# Parameterizable behavior trees\n",
        "\n",
        "This example notebook demonstrates how to create parameterizable behavior trees (PBTs).\n",
        "It builds on the sequential pick-and-place process from a previous example.\n",
        "\n",
        "In particular, this example covers:\n",
        "\n",
        "- Creating parameterizable behavior trees\n",
        "    - Creating tree parameters\n",
        "    - Using tree parameters as skill parameters\n",
        "- Sideloading and using parameterizable behavior trees\n",
        "\n",
        "\u003cdiv class=\"alert alert-info\"\u003e\n",
        "\n",
        "**Important**\n",
        "\n",
        "This notebook requires a running Flowstate solution to connect to. To start a solution:\n",
        "\n",
        "1. Navigate to [flowstate.intrinsic.ai](https://flowstate.intrinsic.ai/) and sign in\n",
        "   using your registered Flowstate account.\n",
        "\n",
        "1. Do **one** of the following:\n",
        "    - Create a new solution:\n",
        "        1. Click \"Create new solution\" and choose \"From an example\".\n",
        "        1. Select `pick_and_place:pick_and_place_module2`\n",
        "        1. Click \"Create\".\n",
        "    - Or open an existing solution that was created from the `pick_and_place:pick_and_place_module2` example:\n",
        "        1. Hover over the solution in the list.\n",
        "        1. Click \"Open solution\" or \"Start solution\".\n",
        "\n",
        "1. Recommended: Keep the browser tab with the Flowstate solution editor open to watch the effect of notebook actions such as running a skill. You can simultaneously interact with the solution through the web UI and the notebook.\n",
        "\n",
        "\u003c/div\u003e"
      ]
    },
    {
      "cell_type": "markdown",
      "id": "b3312c0c-1d2b-4bfc-899a-a1620c24861f",
      "metadata": {
        "colab_type": "text",
        "id": "BGUM20D9LH"
      },
      "source": [
        "First, connect and define convenience shortcuts:"
      ]
    },
    {
      "cell_type": "code",
      "execution_count": null,
      "id": "474b1138-6cd7-475f-ac8b-a2beb6e880c2",
      "metadata": {
        "colab_type": "code",
        "id": "VPKFTZGWKT"
      },
      "outputs": [],
      "source": [
        "from intrinsic.math.python import data_types\n",
        "from intrinsic.solutions import behavior_tree as bt\n",
        "from intrinsic.solutions import deployments\n",
        "\n",
        "solution = deployments.connect_to_selected_solution()\n",
        "\n",
        "executive = solution.executive\n",
        "resources = solution.resources\n",
        "skills = solution.skills\n",
        "world = solution.world\n",
        "simulator = solution.simulator\n",
        "proto_builder = solution.proto_builder\n",
        "\n",
        "attach_object_to_robot = skills.ai.intrinsic.attach_object_to_robot\n",
        "control_suction_gripper = skills.ai.intrinsic.control_suction_gripper\n",
        "detach_object = skills.ai.intrinsic.detach_object\n",
        "enable_gripper = skills.ai.intrinsic.enable_gripper\n",
        "move_robot = skills.ai.intrinsic.move_robot\n",
        "plan_grasp = skills.ai.intrinsic.plan_grasp"
      ]
    },
    {
      "cell_type": "markdown",
      "id": "7a4c9132-cc8b-4008-8cc5-6435bb4f2580",
      "metadata": {
        "colab_type": "text",
        "id": "XVPTZ9E98K"
      },
      "source": [
        "Define generic skills and create an initialization tree:"
      ]
    },
    {
      "cell_type": "code",
      "execution_count": null,
      "id": "08344d6a-35bd-42ac-9bac-238d8e0b712a",
      "metadata": {
        "colab_type": "code",
        "id": "3TSEAXW64J"
      },
      "outputs": [],
      "source": [
        "init_gripper = enable_gripper(gripper=resources.picobot_gripper)\n",
        "\n",
        "move_home = move_robot(\n",
        "    motion_segments=[\n",
        "        move_robot.intrinsic_proto.skills.MotionSegment(\n",
        "            joint_position=world.robot.joint_configurations.home,\n",
        "            motion_type=move_robot.intrinsic_proto.skills.MotionSegment.MotionType.ANY,\n",
        "        )\n",
        "    ],\n",
        "    arm_part=world.robot,\n",
        ")\n",
        "\n",
        "# Turn on the suction gripper which will \"attach\" the building block in the\n",
        "# simulation/real world.\n",
        "grasp = control_suction_gripper(\n",
        "    grasp=control_suction_gripper.intrinsic_proto.eoat.GraspRequest()\n",
        ")\n",
        "\n",
        "# Turn off the suction gripper which will \"drop\" the building block in the\n",
        "# simulation/real world.\n",
        "release = control_suction_gripper(\n",
        "    release=control_suction_gripper.intrinsic_proto.eoat.ReleaseRequest()\n",
        ")"
      ]
    },
    {
      "cell_type": "code",
      "execution_count": null,
      "id": "9469eac2-920c-49b6-b37e-9880c2c9aeba",
      "metadata": {
        "colab_type": "code",
        "id": "FE8OMINF2Y"
      },
      "outputs": [],
      "source": [
        "initialize = bt.SubTree(\n",
        "    name=\"Initialize\",\n",
        "    behavior_tree=bt.Sequence([\n",
        "        bt.Task(action=init_gripper, name=\"Enable gripper\"),\n",
        "        bt.Task(action=move_home, name=\"Move home\"),\n",
        "    ]),\n",
        ")"
      ]
    },
    {
      "cell_type": "markdown",
      "id": "6f5d6e72-abfe-4e32-81e1-e0520e2f6753",
      "metadata": {
        "colab_type": "text",
        "id": "Y8CU7UHF4O"
      },
      "source": [
        "Building a parameterizable behavior tree makes it necessary to define the parameters. You can pick python types like `int`, `float`, `str`, `bool` or well known types.\n",
        "Get a list of the well known types using the following call."
      ]
    },
    {
      "cell_type": "code",
      "execution_count": null,
      "id": "a2869786-1ed9-4886-96f6-6b7f990cf04b",
      "metadata": {
        "colab_type": "code",
        "id": "9TXWSYIDA2"
      },
      "outputs": [],
      "source": [
        "proto_builder.get_well_known_types()"
      ]
    },
    {
      "cell_type": "markdown",
      "id": "17c88a6c-1a74-4724-adb5-09bae94b2b47",
      "metadata": {
        "colab_type": "text",
        "id": "YOFSGWVG60"
      },
      "source": [
        "In this example, the goal is to build a generic tree that grasps an object. Thus create its `GraspParams` message that takes the `object` to grasp as its only parameter."
      ]
    },
    {
      "cell_type": "code",
      "execution_count": null,
      "id": "ef58bd95-283d-4b42-94c4-eac823019e21",
      "metadata": {
        "colab_type": "code",
        "id": "2TMS5QHUEV"
      },
      "outputs": [],
      "source": [
        "grasp_param_message = proto_builder.create_message(\n",
        "    \"intrinsic_proto.grasp_tree\",\n",
        "    \"GraspParams\",\n",
        "    {\"object\": \"intrinsic_proto.world.ObjectReference\"},\n",
        ")"
      ]
    },
    {
      "cell_type": "markdown",
      "id": "6981d2b6-e173-42de-afe3-37f5a86f45a7",
      "metadata": {
        "colab_type": "text",
        "id": "2N8EM04GZM"
      },
      "source": [
        "Create a parameterizable behavior tree named `grasp_tree`. This is just a `BehaviorTree` instance that is initialized as a parameterizable tree.\n",
        "\n",
        "The `skill_id` make this parameterizable tree re-usable in a process like a skill. In addition to that the `grasp_param_message` defined above defines what parameters the tree has."
      ]
    },
    {
      "cell_type": "code",
      "execution_count": null,
      "id": "11655cc1-6d4d-4bd2-b7c9-96fd52a988fb",
      "metadata": {
        "colab_type": "code",
        "id": "PXVENIVA1W"
      },
      "outputs": [],
      "source": [
        "grasp_pbt = bt.BehaviorTree(name=\"grasp_tree\")\n",
        "grasp_pbt.initialize_pbt_with_protos(\n",
        "    skill_id=\"ai.intrinsic.grasp_tree\",\n",
        "    display_name=\"Grasp Tree\",\n",
        "    parameter_proto=grasp_param_message,\n",
        ")"
      ]
    },
    {
      "cell_type": "markdown",
      "id": "2983608b-e58a-47c8-b8de-4d1a1e31a7a7",
      "metadata": {
        "colab_type": "text",
        "id": "I7132E0HXB"
      },
      "source": [
        "Create the skill calls for the `grasp_pbt` as for any other tree.\n",
        "\n",
        "Note that the parameters of the behavior tree are available at `grasp_pbt.params.\u003cparam\u003e`. These can be used in the same way that one would use a skill return value."
      ]
    },
    {
      "cell_type": "code",
      "execution_count": null,
      "id": "aa731eb7-fb23-455a-bdde-503d3f3d92d8",
      "metadata": {
        "colab_type": "code",
        "id": "FW8NEHNLGN"
      },
      "outputs": [],
      "source": [
        "# Moves the global frames `world.grasp_frame` and `world.pregrasp_frame` to\n",
        "# suitable grasp/pregrasp positions above the building block.\n",
        "#\n",
        "# Note that the objects refer to the `object` parameter of the grasp_pbt.\n",
        "# This makes plan_grasp plan grasps for whatever object is passed in when using\n",
        "# this parameterizable behavior tree.\n",
        "plan_block_grasp = plan_grasp(\n",
        "    candidate_objects=plan_grasp.intrinsic_proto.manipulation.skills.ObjectsTarget(\n",
        "        objects=[grasp_pbt.params.object]\n",
        "    ),\n",
        "    tool_frame=world.picobot_gripper.tool_frame,\n",
        "    grasp_annotations=plan_grasp.intrinsic_proto.grasping.GraspAnnotations(\n",
        "        box_shaped_grasp_annotations=plan_grasp.intrinsic_proto.grasping.BoxShapedGraspAnnotationParams(\n",
        "            obj_dims_in_meters=plan_grasp.intrinsic_proto.Vector3(\n",
        "                x=0.075, y=0.025, z=0.015\n",
        "            ),\n",
        "            num_rotations=2,\n",
        "        )\n",
        "    ),\n",
        "    advanced_params=(\n",
        "        plan_grasp.intrinsic_proto.manipulation.skills.PlanGraspAdvancedParams(\n",
        "            output_pregrasp_frame=world.pregrasp_frame,\n",
        "            output_grasp_frame=world.grasp_frame,\n",
        "        )\n",
        "    ),\n",
        ")\n",
        "\n",
        "move_pregrasp = move_robot(\n",
        "    motion_segments=[\n",
        "        move_robot.intrinsic_proto.skills.MotionSegment(\n",
        "            cartesian_pose=move_robot.intrinsic_proto.motion_planning.v1.PoseEquality(\n",
        "                moving_frame=world.picobot_gripper.tool_frame,\n",
        "                target_frame=world.pregrasp_frame,\n",
        "            ),\n",
        "            motion_type=move_robot.intrinsic_proto.skills.MotionSegment.MotionType.ANY,\n",
        "        )\n",
        "    ],\n",
        "    arm_part=world.robot,\n",
        ")\n",
        "\n",
        "collisions_disabled = move_robot.intrinsic_proto.world.CollisionSettings(\n",
        "    disable_collision_checking=True\n",
        ")\n",
        "move_grasp_unsafe = move_robot(\n",
        "    motion_segments=[\n",
        "        move_robot.intrinsic_proto.skills.MotionSegment(\n",
        "            cartesian_pose=move_robot.intrinsic_proto.motion_planning.v1.PoseEquality(\n",
        "                moving_frame=world.picobot_gripper.tool_frame,\n",
        "                target_frame=world.grasp_frame,\n",
        "            ),\n",
        "            motion_type=move_robot.intrinsic_proto.skills.MotionSegment.LINEAR,\n",
        "            collision_settings=collisions_disabled,\n",
        "        )\n",
        "    ],\n",
        "    arm_part=world.robot,\n",
        ")\n",
        "\n",
        "# Note that the attach_object_to_robot skill uses the `object` input parameter passed in from the grasp_pbt\n",
        "attach_block = attach_object_to_robot(\n",
        "    gripper_entity=world.picobot_gripper, object_entity=grasp_pbt.params.object\n",
        ")\n",
        "\n",
        "move_up_unsafe = move_robot(\n",
        "    motion_segments=[\n",
        "        move_robot.intrinsic_proto.skills.MotionSegment(\n",
        "            cartesian_pose=move_robot.intrinsic_proto.motion_planning.v1.PoseEquality(\n",
        "                moving_frame=world.picobot_gripper.tool_frame,\n",
        "                target_frame=world.picobot_gripper.tool_frame,\n",
        "                target_frame_offset=data_types.Pose3(translation=[0, 0, -0.03]),\n",
        "            ),\n",
        "            motion_type=move_robot.intrinsic_proto.skills.MotionSegment.LINEAR,\n",
        "            collision_settings=collisions_disabled,\n",
        "        )\n",
        "    ],\n",
        "    arm_part=world.robot,\n",
        ")\n",
        "\n",
        "grasp_pbt.set_root(\n",
        "    bt.Sequence([\n",
        "        plan_block_grasp,\n",
        "        move_pregrasp,\n",
        "        move_grasp_unsafe,\n",
        "        grasp,\n",
        "        attach_block,\n",
        "        move_up_unsafe,\n",
        "    ])\n",
        ")"
      ]
    },
    {
      "cell_type": "markdown",
      "id": "2d239c2f-03e5-4f4e-9c25-0aab61df9e62",
      "metadata": {
        "colab_type": "text",
        "id": "36447REAR8"
      },
      "source": [
        "Likewise create a tree to place an object. Here also define a `place_frame` to determine where the object should be placed."
      ]
    },
    {
      "cell_type": "code",
      "execution_count": null,
      "id": "8cde72ff-bdc2-41f1-aeb3-638b62abded1",
      "metadata": {
        "colab_type": "code",
        "id": "1KG0BKC9Q0"
      },
      "outputs": [],
      "source": [
        "place_param_message = proto_builder.create_message(\n",
        "    \"intrinsic_proto.place_tree\",\n",
        "    \"PlaceParams\",\n",
        "    {\n",
        "        \"object\": \"intrinsic_proto.world.ObjectReference\",\n",
        "        \"place_frame\": \"intrinsic_proto.world.TransformNodeReference\",\n",
        "    },\n",
        ")"
      ]
    },
    {
      "cell_type": "markdown",
      "id": "321df370-a906-405e-9a47-cfb9bc20287f",
      "metadata": {
        "colab_type": "text",
        "id": "IL0GSWM5UZ"
      },
      "source": [
        "As for `grasp_pbt` create the `place_pbt` as a `BehaviorTree` and initialize it to be a parameterizable behavior tree by assigning a `skill_id` and defining `place_param_message` to be its parameters."
      ]
    },
    {
      "cell_type": "code",
      "execution_count": null,
      "id": "80beeb71-553d-4213-8388-9c1c2729c08f",
      "metadata": {
        "colab_type": "code",
        "id": "QPALFI8TY4"
      },
      "outputs": [],
      "source": [
        "place_pbt = bt.BehaviorTree(name=\"place_tree\")\n",
        "place_pbt.initialize_pbt_with_protos(\n",
        "    skill_id=\"ai.intrinsic.place_tree\",\n",
        "    display_name=\"Place Tree\",\n",
        "    parameter_proto=place_param_message,\n",
        ")"
      ]
    },
    {
      "cell_type": "markdown",
      "id": "a756afeb-7300-45d7-9379-6783ff6edcde",
      "metadata": {
        "colab_type": "text",
        "id": "W87QK4OKMD"
      },
      "source": [
        "Create the skill calls for placing `object` at the `place_frame`."
      ]
    },
    {
      "cell_type": "code",
      "execution_count": null,
      "id": "eea72114-5496-4d9a-9363-efd397570f4d",
      "metadata": {
        "colab_type": "code",
        "id": "FZIE9VPJOP"
      },
      "outputs": [],
      "source": [
        "# Note that the move_drop skill's target_frame is the `place_frame` of the `place_pbt`'s params.\n",
        "move_drop = move_robot(\n",
        "    motion_segments=[\n",
        "        move_robot.intrinsic_proto.skills.MotionSegment(\n",
        "            cartesian_pose=move_robot.intrinsic_proto.motion_planning.v1.PoseEquality(\n",
        "                moving_frame=world.picobot_gripper.tool_frame,\n",
        "                target_frame=place_pbt.params.place_frame,\n",
        "                target_frame_offset=data_types.Pose3(\n",
        "                    rotation=data_types.Rotation3.from_euler_angles(\n",
        "                        rpy_degrees=[180, 0, 90]\n",
        "                    ),\n",
        "                    translation=[0, 0, 0.05],\n",
        "                ),\n",
        "            ),\n",
        "            motion_type=move_robot.intrinsic_proto.skills.MotionSegment.MotionType.ANY,\n",
        "        )\n",
        "    ],\n",
        "    arm_part=world.robot,\n",
        ")\n",
        "\n",
        "release = control_suction_gripper(\n",
        "    release=control_suction_gripper.intrinsic_proto.eoat.ReleaseRequest()\n",
        ")\n",
        "\n",
        "# Detach the `object` given as an input parameter in the `place_pbt`.\n",
        "detach = detach_object(\n",
        "    gripper_entity=world.picobot_gripper, object_entity=place_pbt.params.object\n",
        ")\n",
        "\n",
        "place_pbt.set_root(\n",
        "    bt.Sequence([move_drop, release, detach, move_up_unsafe, move_home])\n",
        ")"
      ]
    },
    {
      "cell_type": "markdown",
      "id": "21305392-ed51-49a9-b6de-9128f1a7bfa0",
      "metadata": {
        "colab_type": "text",
        "id": "6GH2SY4Z3J"
      },
      "source": [
        "Sideload the created trees. Afterwards these will be available as new skills with the given parameters.\n",
        "\n",
        "Thus call `update_skills()` here to refresh the list of skills. If you are using the frontend to show the process then reload the frontend, so that it can read the new skill definitions."
      ]
    },
    {
      "cell_type": "code",
      "execution_count": null,
      "id": "9b5c151a-a2a3-4874-9b0c-3cfc323da051",
      "metadata": {
        "colab_type": "code",
        "id": "FL7KZQSDQT"
      },
      "outputs": [],
      "source": [
        "solution.pbt_registry.sideload_behavior_tree(grasp_pbt)\n",
        "solution.pbt_registry.sideload_behavior_tree(place_pbt)\n",
        "solution.update_skills()"
      ]
    },
    {
      "cell_type": "markdown",
      "id": "71f7db30-b4f8-401c-a3f1-ee3e90cd0eae",
      "metadata": {
        "colab_type": "text",
        "id": "ZQN9Z1IWUT"
      },
      "source": [
        "Build a process tree that moves `building_block0` to `target_right` by using the grasp and place trees."
      ]
    },
    {
      "cell_type": "code",
      "execution_count": null,
      "id": "5550079b-4cc4-42df-8f47-7b865c7fc43c",
      "metadata": {
        "colab_type": "code",
        "id": "NLZK3TQDZQ"
      },
      "outputs": [],
      "source": [
        "executive.run(\n",
        "    bt.Sequence(\n",
        "        children=[\n",
        "            initialize,\n",
        "            bt.Task(\n",
        "                name=\"Grasp block0\",\n",
        "                action=skills.ai.intrinsic.grasp_tree(\n",
        "                    object=world.building_block0\n",
        "                ),\n",
        "            ),\n",
        "            bt.Task(\n",
        "                name=\"Place block0\",\n",
        "                action=skills.ai.intrinsic.place_tree(\n",
        "                    object=world.building_block0, place_frame=world.target_right\n",
        "                ),\n",
        "            ),\n",
        "        ]\n",
        "    )\n",
        ")"
      ]
    },
    {
      "cell_type": "markdown",
      "id": "6b113986-74e1-4616-8d8d-4d1548251850",
      "metadata": {
        "colab_type": "text",
        "id": "4XZCM4DJI5"
      },
      "source": [
        "Like skills we can re-use our parameterizable behavior trees with other parameters. The following tree moves the object back to `target_left`."
      ]
    },
    {
      "cell_type": "code",
      "execution_count": null,
      "id": "8f2c4094-0b71-4d38-a768-3ef88f4e95d8",
      "metadata": {
        "colab_type": "code",
        "id": "1YHNVDJ1MP"
      },
      "outputs": [],
      "source": [
        "executive.run(\n",
        "    bt.Sequence(\n",
        "        children=[\n",
        "            initialize,\n",
        "            bt.Task(\n",
        "                name=\"Grasp block0\",\n",
        "                action=skills.ai.intrinsic.grasp_tree(\n",
        "                    object=world.building_block0\n",
        "                ),\n",
        "            ),\n",
        "            bt.Task(\n",
        "                name=\"Place block0\",\n",
        "                action=skills.ai.intrinsic.place_tree(\n",
        "                    object=world.building_block0, place_frame=world.target_left\n",
        "                ),\n",
        "            ),\n",
        "        ]\n",
        "    )\n",
        ")"
      ]
    },
    {
      "cell_type": "markdown",
      "id": "9d7265bd-90a1-42da-9444-0012cef0dada",
      "metadata": {
        "colab_type": "text",
        "id": "I5C62MKCKZ"
      },
      "source": [
        "This notebook showed how to create two simple to use parameterizable behavior trees that make it possible to grasp and place an object.\n",
        "To this end the necessary skills are contained in the parameterizable trees and appear as skills to be used in a process tree.\n",
        "\n",
        "You can now experiment with these skills, e.g., try moving a different object or multiple locations.\n",
        "\n",
        "Consider wrapping re-occurring functionalities in your processes in a parameterizable behavior tree. This prevents re-doing the same pattern multiple times and any improvements to a parameterizable behavior tree immediately apply to all call sites."
      ]
    }
  ],
  "metadata": {
    "colab": {},
    "kernelspec": {
      "display_name": "Python 3 (ipykernel)",
      "language": "python",
      "name": "python3"
    },
    "language_info": {
      "codemirror_mode": {
        "name": "ipython",
        "version": 3
      },
      "file_extension": ".py",
      "mimetype": "text/x-python",
      "name": "python",
      "nbconvert_exporter": "python",
      "pygments_lexer": "ipython3",
      "version": "3.11.6"
    }
  },
  "nbformat": 4,
  "nbformat_minor": 5
}
