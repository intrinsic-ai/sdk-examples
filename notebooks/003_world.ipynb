{
 "cells": [
  {
   "cell_type": "markdown",
   "metadata": {
    "colab_type": "text",
    "id": "92KXJT8DJY"
   },
   "source": [
    "# World and Transformations/Poses in the Solution Building Library\n",
    "\n",
    "This example notebook demonstrates how to interact with the scene/world using the Intrinsic Solution Building Library.\n",
    "\n",
    "<div class=\"alert alert-info\">\n",
    "\n",
    "**Important**\n",
    "\n",
    "This notebook requires a running Flowstate solution to connect to. To start a solution:\n",
    "\n",
    "1. Navigate to [portal.intrinsic.ai](https://portal.intrinsic.ai/) and sign in\n",
    "   using your registered Flowstate account.\n",
    "\n",
    "1. Do **one** of the following:\n",
    "    - Create a new solution:\n",
    "        1. Click \"Create new solution\" and choose \"From an example\".\n",
    "        1. Select `pick_and_place:pick_and_place_module2`\n",
    "        1. Click \"Create\".\n",
    "    - Or open an existing solution that was created from the `pick_and_place:pick_and_place_module2` example:\n",
    "        1. Hover over the solution in the list.\n",
    "        1. Click \"Open solution\" or \"Start solution\".\n",
    "\n",
    "1. Recommended: Keep the browser tab with the Flowstate solution editor open to watch the effect of notebook actions such as running a skill. You can simultaneously interact with the solution through the web UI and the notebook.\n",
    "\n",
    "</div>"
   ]
  },
  {
   "cell_type": "markdown",
   "metadata": {
    "colab_type": "text",
    "id": "5S3XH3ZX0A"
   },
   "source": [
    "## Connect to solution\n",
    "\n",
    "Let's start with the typical preamble:\n",
    "\n",
    "- Import the relevant modules.\n",
    "- Connect to the deployed solution.\n",
    "- Define some shortcut variables for convenience."
   ]
  },
  {
   "cell_type": "code",
   "execution_count": null,
   "metadata": {
    "colab_type": "code",
    "id": "9909KYOV6D"
   },
   "outputs": [],
   "source": [
    "import math\n",
    "\n",
    "from intrinsic.math.python import data_types\n",
    "from intrinsic.solutions import deployments\n",
    "from intrinsic.solutions import behavior_tree as bt\n",
    "\n",
    "solution = deployments.connect_to_selected_solution()\n",
    "\n",
    "executive = solution.executive\n",
    "resources = solution.resources\n",
    "skills = solution.skills\n",
    "world = solution.world"
   ]
  },
  {
   "cell_type": "markdown",
   "metadata": {
    "colab_type": "text",
    "id": "KG81D7EOPZ"
   },
   "source": [
    "## Interacting with the world"
   ]
  },
  {
   "cell_type": "markdown",
   "metadata": {
    "colab_type": "text",
    "id": "7UCV7G0YQE"
   },
   "source": [
    "`solution.world` provides programmatic access to the **Belief** world which you can see in the [workcell designer](https://developers.intrinsic.ai/guides/workcell_design/workcell_overview) of the Flowstate solution editor.\n",
    "\n",
    "From Python, you can query the belief world state, e.g., for object poses and also do a limited amount of editing. E.g., you can create frames and move objects. In the following we will show a few examples. Note that this is the same Python API that is also used for [accessing the belief world from Python skills](https://developers.intrinsic.ai/guides/skill_authoring/access_belief_world)."
   ]
  },
  {
   "cell_type": "markdown",
   "metadata": {
    "colab_type": "text",
    "id": "UHRR23VY6E"
   },
   "source": [
    "\n",
    "### Print the world to get an overview\n",
    "\n",
    "The `print()` function prints the world as a tree structure. In the output, the double arrows (=>) symbolize child objects, the normal arrows (->) symbolize child frames."
   ]
  },
  {
   "cell_type": "code",
   "execution_count": null,
   "metadata": {
    "colab_type": "code",
    "id": "Q0F9MMJIVM"
   },
   "outputs": [],
   "source": [
    "print(world)"
   ]
  },
  {
   "cell_type": "markdown",
   "metadata": {
    "colab_type": "text",
    "id": "YM9IBE4QYI"
   },
   "source": [
    "### Access an object\n",
    "\n",
    "World objects can be accessed with the notation `world.<object_name>` or via `world.get_object()` (if the object's name is marked as a global alias in the world)."
   ]
  },
  {
   "cell_type": "code",
   "execution_count": null,
   "metadata": {
    "colab_type": "code",
    "id": "WMDWXYYJ1H"
   },
   "outputs": [],
   "source": [
    "building_block = world.building_block0\n",
    "print(building_block)\n",
    "print(\"name:\", building_block.name)\n",
    "print(\"parent_name:\", building_block.parent_name)\n",
    "\n",
    "# Access the same box by name using the get_object method.\n",
    "building_block_2 = world.get_object(\"building_block0\")\n",
    "print(building_block_2)"
   ]
  },
  {
   "cell_type": "markdown",
   "metadata": {
    "colab_type": "text",
    "id": "I5LAKU2J7Q"
   },
   "source": [
    "\n",
    "### Access a frame\n",
    "\n",
    "Frames can either be global (=attached to the world root) or local (=attached to an object).\n",
    "\n",
    "Global frames can be accessed with the notation `world.<frame_name>` or via `world.get_frame()`:"
   ]
  },
  {
   "cell_type": "code",
   "execution_count": null,
   "metadata": {
    "colab_type": "code",
    "id": "98UXHT3OGC"
   },
   "outputs": [],
   "source": [
    "grasp_frame = world.grasp_frame\n",
    "print(grasp_frame)\n",
    "print(\"name:\", grasp_frame.name)\n",
    "print(\"object_name:\", grasp_frame.object_name)\n",
    "\n",
    "# Access the same frame by frame name and object name using the get_frame method.\n",
    "grasp_frame = world.get_frame(\"grasp_frame\", \"root\")\n",
    "print(grasp_frame)"
   ]
  },
  {
   "cell_type": "markdown",
   "metadata": {
    "colab_type": "text",
    "id": "NKLI6CJNSM"
   },
   "source": [
    "Local frames can be accessed with the notation `world.<object_name>.<frame_name>` or via `world.get_frame()`. Note that all frames under one object always need to have unique names but the same frame name can be reused under different objects:"
   ]
  },
  {
   "cell_type": "code",
   "execution_count": null,
   "metadata": {
    "colab_type": "code",
    "id": "GFHZW5XJ0V"
   },
   "outputs": [],
   "source": [
    "gripper_tool_frame = world.picobot_gripper.tool_frame\n",
    "print(gripper_tool_frame)\n",
    "print(\"name:\", gripper_tool_frame.name)\n",
    "print(\"object_name:\", gripper_tool_frame.object_name)\n",
    "\n",
    "# Access the same frame by frame name and object name using the get_frame method.\n",
    "gripper_tool_frame = world.get_frame(\"tool_frame\", \"picobot_gripper\")\n",
    "print(gripper_tool_frame)"
   ]
  },
  {
   "cell_type": "markdown",
   "metadata": {
    "colab_type": "text",
    "id": "J5EKBEIBY2"
   },
   "source": [
    "### Access a kinematic objects\n",
    "\n",
    "Kinematic objects are objects which have movable joints and thus have more properties and extendend functionality. Common examples are robots and grippers.\n",
    "\n",
    "Here are a few common operations:"
   ]
  },
  {
   "cell_type": "code",
   "execution_count": null,
   "metadata": {
    "colab_type": "code",
    "id": "4EWF2V51VF"
   },
   "outputs": [],
   "source": [
    "robot = world.robot\n",
    "print(robot)\n",
    "\n",
    "# Access the same robot object by object name using the get_kinematic_object method.\n",
    "robot = world.get_kinematic_object(\"robot\")\n",
    "\n",
    "# Get the current joint positions of the robot in the belief world.\n",
    "print(\"Current position:\", robot.joint_positions)\n",
    "\n",
    "# Get the robot joint configuration which is saved under the name \"home\".\n",
    "print('Saved \"home\" position:', robot.joint_configurations.home.joint_position)"
   ]
  },
  {
   "cell_type": "markdown",
   "metadata": {
    "colab_type": "text",
    "id": "6D0DFQF9N9"
   },
   "source": [
    "### Exploring the world\n",
    "\n",
    "Here are a few more examples on how the world can be explored:"
   ]
  },
  {
   "cell_type": "code",
   "execution_count": null,
   "metadata": {
    "colab_type": "code",
    "id": "E886V0DZSZ"
   },
   "outputs": [],
   "source": [
    "print(\"All objects in the world:\")\n",
    "print(world.list_objects(), \"\\n\")\n",
    "\n",
    "print(\"The names of all objects in the world:\")\n",
    "print(world.list_object_names(), \"\\n\")\n",
    "\n",
    "print(\"All child frames of the gripper object:\")\n",
    "print(world.picobot_gripper.frames, \"\\n\")\n",
    "\n",
    "print(\"The names of all frames of the gripper object:\")\n",
    "print(world.picobot_gripper.frame_names)"
   ]
  },
  {
   "cell_type": "markdown",
   "metadata": {
    "colab_type": "text",
    "id": "3MVEBQL63F"
   },
   "source": [
    "### Access transformations\n",
    "\n",
    "It is possible to access transformations between objects and/or frames:"
   ]
  },
  {
   "cell_type": "code",
   "execution_count": null,
   "metadata": {
    "colab_type": "code",
    "id": "6MVND8FJ0M"
   },
   "outputs": [],
   "source": [
    "# Access the transform from the parent to the building block object.\n",
    "print(world.building_block0.parent_t_this)\n",
    "\n",
    "# Get the transform between any combination of frame and/or object.\n",
    "robot_t_block = world.get_transform(world.robot, world.building_block0)\n",
    "print(robot_t_block)"
   ]
  },
  {
   "cell_type": "markdown",
   "metadata": {
    "colab_type": "text",
    "id": "2QXVISPEC0"
   },
   "source": [
    "You can also manipulate the transforms in the belief world. This results in moving the objects/frames:"
   ]
  },
  {
   "cell_type": "code",
   "execution_count": null,
   "metadata": {
    "colab_type": "code",
    "id": "Z3SU4NUJ9O"
   },
   "outputs": [],
   "source": [
    "from intrinsic.math.python import data_types\n",
    "\n",
    "# Move the 'building_block0' object to 1 cm above the 'target_right' frame.\n",
    "# - The first three arguments specify that the transform between the 'target_right' frame and\n",
    "#   the 'building_block0' object (=\"target_right_t_building_block\") should become (0, 0, 0.01).\n",
    "# - The fourth argument specifies that this should be achieved by modifying the transform between\n",
    "#   the 'building_block0' object and its immediate parent (=the world root).\n",
    "world.update_transform(\n",
    "    world.target_right,\n",
    "    world.building_block0,\n",
    "    data_types.Pose3(translation=[0, 0, 0.01]),\n",
    "    world.building_block0,\n",
    ")"
   ]
  },
  {
   "cell_type": "markdown",
   "metadata": {
    "colab_type": "text",
    "id": "7LL7OXYH55"
   },
   "source": [
    "After executing the `world.update_transform()` call you should be able to observe in the Flowstate solution editor that the `building_block` object has moved."
   ]
  },
  {
   "cell_type": "markdown",
   "metadata": {
    "colab_type": "text",
    "id": "3TWMUDHKWX"
   },
   "source": [
    "### Reparent objects\n",
    "Objects can be re-attached to another parent in the worlds scene tree."
   ]
  },
  {
   "cell_type": "code",
   "execution_count": null,
   "metadata": {
    "colab_type": "code",
    "id": "MCNBRCZZKP"
   },
   "outputs": [],
   "source": [
    "# Reparent the connector on the box\n",
    "print(world.building_block0.parent_name)\n",
    "world.reparent_object(world.building_block0, new_parent=world.building_block_tray)\n",
    "print(world.building_block0.parent_name)"
   ]
  },
  {
   "cell_type": "markdown",
   "metadata": {
    "colab_type": "text",
    "id": "7JZL53QXNA"
   },
   "source": [
    "Now the `building_block0` object can be found in the tree under `building_block_tray`."
   ]
  },
  {
   "cell_type": "code",
   "execution_count": null,
   "metadata": {
    "colab_type": "code",
    "id": "9A6BA6B7N0"
   },
   "outputs": [],
   "source": [
    "print(world)"
   ]
  },
  {
   "cell_type": "markdown",
   "metadata": {
    "colab_type": "text",
    "id": "CYDU5E62CC"
   },
   "source": [
    "## Poses\n",
    "\n",
    "When working with skills and the belief world you will often have to deal with poses and rotations. For this purpose, the Solution Building Library uses the `intrinsic.math.python.data_types` module from the Intrinsic SDK. In the following we show a few examples of how to use the `Pose3` type and its friends.\n",
    "\n",
    "There are three ways to create a pose consisting of translation and rotation. Firstly, it can be created from a 7-element vector containing translation and rotation (as a quarternion), [tx, ty, tz, qx, qy, qz, qw]:\n",
    "\n"
   ]
  },
  {
   "cell_type": "code",
   "execution_count": null,
   "metadata": {
    "colab_type": "code",
    "id": "3R4A3KTJWC"
   },
   "outputs": [],
   "source": [
    "from intrinsic.math.python import data_types\n",
    "\n",
    "pose = data_types.Pose3.from_vec7([0.1, 0.2, 0.3, 0.27060, 0.65328, -0.27060, 0.65328])\n",
    "print(\"Vec7 representation (px,py,pz,x,y,z,w):\", pose.vec7)\n",
    "print(pose)"
   ]
  },
  {
   "cell_type": "markdown",
   "metadata": {
    "colab_type": "text",
    "id": "SNNRS3S2CX"
   },
   "source": [
    "\n",
    "The same pose can be constructed by creating the quarternion explicitly and specifying translation and orientation separately:\n"
   ]
  },
  {
   "cell_type": "code",
   "execution_count": null,
   "metadata": {
    "colab_type": "code",
    "id": "5JAETLLSCP"
   },
   "outputs": [],
   "source": [
    "pose = data_types.Pose3(\n",
    "    rotation=data_types.Rotation3(\n",
    "        data_types.Quaternion([0.27060, 0.65328, -0.27060, 0.65328])\n",
    "    ),\n",
    "    translation=[0.1, 0.2, 0.3],\n",
    ")\n",
    "print(pose)"
   ]
  },
  {
   "cell_type": "markdown",
   "metadata": {
    "colab_type": "text",
    "id": "E7882ROLV9"
   },
   "source": [
    "\n",
    "If you don't want to specify quarternions, you can also use Euler angles:\n",
    "\n"
   ]
  },
  {
   "cell_type": "code",
   "execution_count": null,
   "metadata": {
    "colab_type": "code",
    "id": "AAK94SEJTR"
   },
   "outputs": [],
   "source": [
    "pose = data_types.Pose3(\n",
    "    rotation=data_types.Rotation3.from_euler_angles(rpy_degrees=[45, 90, 0]),\n",
    "    translation=[0.1, 0.2, 0.3],\n",
    ")\n",
    "print(pose)"
   ]
  },
  {
   "cell_type": "markdown",
   "metadata": {
    "colab_type": "text",
    "id": "AJ896BYUQN"
   },
   "source": [
    "\n",
    "As you can see, all three ways of specifying a pose lead to the same pose.\n",
    "\n",
    "As you saw in a previous section you can also query poses from the belief world, e.g.:"
   ]
  },
  {
   "cell_type": "code",
   "execution_count": null,
   "metadata": {
    "colab_type": "code",
    "id": "MIFGDR7PIV"
   },
   "outputs": [],
   "source": [
    "root_t_block = world.get_transform(world.root, world.building_block0)\n",
    "print(root_t_block)"
   ]
  },
  {
   "cell_type": "markdown",
   "metadata": {
    "colab_type": "text",
    "id": "LHF13EYV0T"
   },
   "source": [
    "For pose computations the `Pose3` class supports the `*` operator for pose concatenation and has the `inverse()` method. Usage example:"
   ]
  },
  {
   "cell_type": "code",
   "execution_count": null,
   "metadata": {
    "colab_type": "code",
    "id": "XVNN0PQ00B"
   },
   "outputs": [],
   "source": [
    "camera_t_block = world.get_transform(world.wrist_camera, world.building_block0)\n",
    "tray_t_camera = world.get_transform(world.building_block_tray, world.wrist_camera)\n",
    "camera_t_tray = world.get_transform(world.wrist_camera, world.building_block_tray)\n",
    "\n",
    "tray_t_block_1 = tray_t_camera * camera_t_block\n",
    "tray_t_block_2 = camera_t_tray.inverse() * camera_t_block\n",
    "\n",
    "# Should print the same pose three times\n",
    "print(world.get_transform(world.building_block_tray, world.building_block0))\n",
    "print(tray_t_block_1)\n",
    "print(tray_t_block_2)"
   ]
  },
  {
   "cell_type": "markdown",
   "metadata": {
    "colab_type": "text",
    "id": "1P6B2F6FXY"
   },
   "source": [
    "## Next steps\n",
    "\n",
    "Take a look at the following example notebooks to learn:\n",
    "\n",
    "- How to [parameterize skill instances](004_skills.ipynb).\n",
    "- How to create behavior trees with control flow nodes such as [sequences](005_sequence.ipynb), [loops and branches](006_loop_and_branch.ipynb) or [retries](007_retry.ipynb)."
   ]
  }
 ],
 "metadata": {
  "colab": {},
  "kernelspec": {
   "display_name": "Python 3",
   "language": "python",
   "name": "python3"
  },
  "language_info": {
   "codemirror_mode": {
    "name": "ipython",
    "version": 3
   },
   "file_extension": ".py",
   "mimetype": "text/x-python",
   "name": "python",
   "nbconvert_exporter": "python",
   "pygments_lexer": "ipython3",
   "version": "3.10.14"
  }
 },
 "nbformat": 4,
 "nbformat_minor": 2
}
