{
  "cells": [
    {
      "cell_type": "markdown",
      "metadata": {
        "colab_type": "text",
        "id": "GH7M0VZLFF",
        "tags": []
      },
      "source": [
        "# Data node and for-each loop over objects\n",
        "\n",
        "This example notebook demonstrates moving over a couple of objects:\n",
        "\n",
        "- Use a data node to retrieve objects from the world via a world query\n",
        "- Use a loop node in for-each mode to loop over retrieved objects.\n",
        "\n",
        "In particular, this example covers:\n",
        "\n",
        "- Behavior tree nodes\n",
        "    - `Data` with `WorldQuery`\n",
        "    - `Loop` with `set_for_each_generator()` from data node result\n",
        "    - Invoke skill with for each value\n",
        "\n",
        "\u003cdiv class=\"alert alert-info\"\u003e\n",
        "\n",
        "**Important**\n",
        "\n",
        "This notebook requires a running Flowstate solution to connect to. To start a solution:\n",
        "\n",
        "1. Navigate to [flowstate.intrinsic.ai](https://flowstate.intrinsic.ai/) and sign in\n",
        "   using your registered Flowstate account.\n",
        "\n",
        "1. Do **one** of the following:\n",
        "    - Create a new solution:\n",
        "        1. Click \"Create new solution\" and choose \"From an example\".\n",
        "        1. Select `building_block:building_block_module2`\n",
        "        1. Click \"Create\".\n",
        "    - Or open an existing solution that was created from the `building_block:building_block_module2` example:\n",
        "        1. Hover over the solution in the list.\n",
        "        1. Click \"Open solution\" or \"Start solution\".\n",
        "\n",
        "1. Recommended: Keep the browser tab with the Flowstate solution editor open to watch the effect of notebook actions such as running a skill. You can simultaneously interact with the solution through the web UI and the notebook.\n",
        "\n",
        "\u003c/div\u003e"
      ]
    },
    {
      "cell_type": "markdown",
      "metadata": {
        "colab_type": "text",
        "id": "F81ZVHUXZA"
      },
      "source": [
        "First, connect to your solution and define convenience shortcuts:"
      ]
    },
    {
      "cell_type": "code",
      "execution_count": null,
      "metadata": {
        "colab_type": "code",
        "id": "8BUE1XD3VA"
      },
      "outputs": [],
      "source": [
        "from intrinsic.math.python import data_types\n",
        "from intrinsic.solutions import deployments\n",
        "from intrinsic.solutions import behavior_tree as bt\n",
        "from intrinsic.solutions import worlds\n",
        "from intrinsic.world.proto import object_world_refs_pb2\n",
        "from intrinsic.world.proto import object_world_updates_pb2\n",
        "from intrinsic.math.python import proto_conversion\n",
        "\n",
        "solution = deployments.connect_to_selected_solution()\n",
        "\n",
        "executive = solution.executive\n",
        "resources = solution.resources\n",
        "products = solution.products\n",
        "skills = solution.skills\n",
        "world = solution.world\n",
        "simulator = solution.simulator\n",
        "pose_estimators = solution.pose_estimators\n",
        "\n",
        "enable_gripper = skills.ai.intrinsic.enable_gripper\n",
        "move_robot = skills.ai.intrinsic.move_robot"
      ]
    },
    {
      "cell_type": "markdown",
      "metadata": {
        "colab_type": "text",
        "id": "42H3VH233I"
      },
      "source": [
        "## Create Test Environment\n",
        "\n",
        "The following creates more blocks to later loop over them."
      ]
    },
    {
      "cell_type": "code",
      "execution_count": null,
      "metadata": {
        "colab_type": "code",
        "id": "CVWO9WRD22",
        "tags": []
      },
      "outputs": [],
      "source": [
        "clone_from = world.get_object(\"building_block0\")\n",
        "existing_objects = world.list_object_names()\n",
        "updates = []\n",
        "building_block_fragment = products.building_block_fragment\n",
        "for i in range(1, 6):\n",
        "    object_name = f\"building_block{i}\"\n",
        "    if object_name not in existing_objects:\n",
        "        pose = clone_from.parent_t_this * data_types.Pose3(\n",
        "            translation=[(i % 2) * -0.1, i // 2 * 0.05, 0]\n",
        "        )\n",
        "        world.create_object_from_product(\n",
        "            product_name=building_block_fragment.name,\n",
        "            product_metadata=building_block_fragment.metadata,\n",
        "            scene_object=building_block_fragment.scene_object,\n",
        "            object_name=object_name,\n",
        "            parent=clone_from.parent,\n",
        "            parent_object_t_created_object=pose,\n",
        "        )"
      ]
    },
    {
      "cell_type": "markdown",
      "metadata": {
        "colab_type": "text",
        "id": "O24FLYNT51"
      },
      "source": [
        "## Create the Behavior Tree\n",
        "\n",
        "The overall flow is to initialize, then move to the home position, then move over each building block. Next, we create some basic skills."
      ]
    },
    {
      "cell_type": "code",
      "execution_count": null,
      "metadata": {
        "colab_type": "code",
        "id": "3QCFRDIB38"
      },
      "outputs": [],
      "source": [
        "init_gripper = enable_gripper(\n",
        "    clear_faults=True, gripper=resources.picobot_gripper)\n",
        "\n",
        "move_home = move_robot(\n",
        "    motion_segments=[\n",
        "        move_robot.intrinsic_proto.skills.MotionSegment(\n",
        "            joint_position=world.robot.joint_configurations.home,\n",
        "            motion_type=move_robot.intrinsic_proto.skills.MotionSegment.MotionType.ANY,\n",
        "        )\n",
        "    ],\n",
        "    arm_part=world.robot,\n",
        ")"
      ]
    },
    {
      "cell_type": "markdown",
      "metadata": {
        "colab_type": "text",
        "id": "CCWVLLWOTR"
      },
      "source": [
        "Now specify the data and loop nodes.\n",
        "\n",
        "The data node uses a world query to retrieve all children of the root object. That's where the building blocks are parentend."
      ]
    },
    {
      "cell_type": "code",
      "execution_count": null,
      "metadata": {
        "colab_type": "code",
        "id": "XZNYSKT4KC"
      },
      "outputs": [],
      "source": [
        "world_query = (\n",
        "    bt.WorldQuery()\n",
        "    .select(\n",
        "        children_of=object_world_refs_pb2.ObjectReference(\n",
        "            by_name=object_world_refs_pb2.ObjectReferenceByName(\n",
        "                object_name=\"root\"\n",
        "            )\n",
        "        )\n",
        "    )\n",
        "    .filter(name_regex=r\"building_block\\d+\")\n",
        "    .order(\n",
        "        by=bt.WorldQuery.OrderCriterion.NAME,\n",
        "        direction=bt.WorldQuery.OrderDirection.ASCENDING,\n",
        "    )\n",
        ")\n",
        "\n",
        "data_node = bt.Data(\n",
        "    name=\"Query Blocks\",\n",
        "    operation=bt.Data.OperationType.CREATE_OR_UPDATE,\n",
        "    blackboard_key=\"blocks\",\n",
        "    world_query=world_query,\n",
        ")\n",
        "\n",
        "loop_node = bt.Loop()\n",
        "loop_node.set_for_each_generator(generator_value=data_node.result.items)\n",
        "\n",
        "block_target = (\n",
        "    move_robot.intrinsic_proto.world.geometric_constraints.PoseEquality(\n",
        "        moving_frame=world.picobot_gripper.tool_frame,\n",
        "        target_frame=loop_node.for_each_value,\n",
        "        target_frame_offset=data_types.Pose3(\n",
        "            translation=[0, 0, 0.12],\n",
        "            rotation=data_types.Rotation3.from_euler_angles([180, 0, 0]),\n",
        "        ),\n",
        "    )\n",
        ")\n",
        "move_to_block = move_robot(\n",
        "    motion_segments=[\n",
        "        move_robot.intrinsic_proto.skills.MotionSegment(\n",
        "            cartesian_pose=block_target,\n",
        "            motion_type=move_robot.intrinsic_proto.skills.MotionSegment.JOINT,\n",
        "            collision_settings=worlds.CollisionSettings.disabled,\n",
        "        )\n",
        "    ],\n",
        "    arm_part=world.robot,\n",
        ")\n",
        "\n",
        "loop_node.set_do_child(move_to_block)\n",
        "\n",
        "my_bt = bt.BehaviorTree(\n",
        "    root=bt.Sequence([init_gripper, move_home, data_node, loop_node])\n",
        ")\n",
        "my_bt.show()"
      ]
    },
    {
      "cell_type": "markdown",
      "metadata": {
        "colab_type": "text",
        "id": "86EUQP42QU"
      },
      "source": [
        "## Run the Behavior Tree"
      ]
    },
    {
      "cell_type": "code",
      "execution_count": null,
      "metadata": {
        "colab_type": "code",
        "id": "YRLWH1RDX3"
      },
      "outputs": [],
      "source": [
        "executive.run(my_bt)"
      ]
    }
  ],
  "metadata": {
    "colab": {},
    "kernelspec": {
      "display_name": "Python 3 (ipykernel)",
      "language": "python",
      "name": "python3"
    },
    "language_info": {
      "codemirror_mode": {
        "name": "ipython",
        "version": 3
      },
      "file_extension": ".py",
      "mimetype": "text/x-python",
      "name": "python",
      "nbconvert_exporter": "python",
      "pygments_lexer": "ipython3",
      "version": "3.11.9"
    }
  },
  "nbformat": 4,
  "nbformat_minor": 4
}
