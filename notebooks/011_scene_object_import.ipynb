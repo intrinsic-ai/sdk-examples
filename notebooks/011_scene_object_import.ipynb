{
  "cells": [
    {
      "metadata": {
        "id": "qxuXn046WFUA"
      },
      "cell_type": "markdown",
      "source": [
        "# Import and install Scene Object assets\n",
        "\n",
        "This example notebook demonstrates how to create Scene Object assets from 3D asset files using the gRPC services.\n",
        "This notebook can work from an empty solution or any example solution."
      ]
    },
    {
      "metadata": {
        "id": "AAgxZ9gFWEKh"
      },
      "cell_type": "markdown",
      "source": [
        "## Connect to solution\n",
        "\n",
        "Let's start with the typical preamble:\n",
        "\n",
        "- Import the relevant modules.\n",
        "- Connect to the deployed solution.\n",
        "- Store the solution grpc channel for later"
      ]
    },
    {
      "metadata": {
        "id": "1c0y5PqXWs8N"
      },
      "cell_type": "code",
      "source": [
        "from intrinsic.solutions import deployments\n",
        "\n",
        "solution = deployments.connect_to_selected_solution()\n",
        "channel = solution.grpc_channel"
      ],
      "outputs": [],
      "execution_count": null
    },
    {
      "metadata": {
        "id": "E_iCzoKCWsns"
      },
      "cell_type": "markdown",
      "source": [
        "## Connect to grpc services\n",
        "\n",
        "We need the following grpc service connections to import a file and install it as a Scene Object asset.\n",
        "\n",
        "- `scene_object_import` imports files as Intrinsic `SceneObject`s\n",
        "- `installed_asset` installs `SceneObject` as assets in the solution\n",
        "- `operations` serves the status of long running operations for both import and installation."
      ]
    },
    {
      "metadata": {
        "id": "DYK_oQnZXIV4"
      },
      "cell_type": "code",
      "source": [
        "from intrinsic.scene.proto.v1 import scene_object_import_pb2_grpc\n",
        "from intrinsic.assets.proto import installed_assets_pb2_grpc\n",
        "from google.longrunning import operations_pb2_grpc\n",
        "\n",
        "scene_object_import_stub = scene_object_import_pb2_grpc.SceneObjectImportStub(channel)\n",
        "installed_assets_stub = installed_assets_pb2_grpc.InstalledAssetsStub(channel)\n",
        "operations_stub = operations_pb2_grpc.OperationsStub(channel)\n"
      ],
      "outputs": [],
      "execution_count": null
    },
    {
      "metadata": {
        "id": "_CI8QroNfPhF"
      },
      "cell_type": "markdown",
      "source": [
        "## Long running operations utilities\n",
        "\n",
        "Both the `SceneObjectImport` and `InstalledAsset` service returns longrunning operations.\n",
        "Define some simple waiting mechanism to work with these operations."
      ]
    },
    {
      "metadata": {
        "id": "n5d0gOxwfO9K"
      },
      "cell_type": "code",
      "source": [
        "import time\n",
        "from google.longrunning import operations_pb2\n",
        "\n",
        "def wait_for_operation(operation: operations_pb2.Operation, operations_stub: operations_pb2_grpc.OperationsStub) -\u003e operations_pb2.Operation:\n",
        "  \"\"\"Waits for an operation to complete.\n",
        "  \n",
        "  Raises RuntimeError if the operation fails.\n",
        "  \"\"\"\n",
        "  while not operation.done:\n",
        "    print(f\"Waiting for operation {operation.name} to complete...\")\n",
        "    operation = operations_stub.GetOperation(\n",
        "        operations_pb2.GetOperationRequest(name=operation.name)\n",
        "    )\n",
        "    time.sleep(1)\n",
        "    print(f\"Operation {operation.name} is not done yet.\")\n",
        "    \n",
        "  if operation.HasField('error'):\n",
        "    raise RuntimeError(f\"Operation {operation.name} failed: {operation.error}\")\n",
        "  return operation\n"
      ],
      "outputs": [],
      "execution_count": null
    },
    {
      "metadata": {
        "id": "ffxqPBKMX5gr"
      },
      "cell_type": "markdown",
      "source": [
        "## Import a simple OBJ file as a Scene Object\n",
        "\n",
        "This section demostrates the most basic use case, importing a single triangle OBJ file as an installed SceneObject asset"
      ]
    },
    {
      "metadata": {
        "id": "NVi2dqRYYK-8"
      },
      "cell_type": "code",
      "source": [
        "from intrinsic.scene.proto.v1 import scene_object_import_pb2\n",
        "\n",
        "# Just a triangle\n",
        "simple_obj = \"\"\"# Vertices\n",
        "v 0.0 0.0 0.0\n",
        "v 1.0 0.0 0.0\n",
        "v 0.0 1.0 0.0\n",
        "# Face (triangle) \n",
        "f 1 2 3\n",
        "\"\"\"\n",
        "\n",
        "# Prepare the import request\n",
        "file = scene_object_import_pb2.SceneFileData(\n",
        "    data=simple_obj.encode(),\n",
        "    file_type=scene_object_import_pb2.SceneFileData.Type.OBJ,\n",
        ")\n",
        "request = scene_object_import_pb2.ImportSceneObjectRequest(\n",
        "    file=file,\n",
        ")\n",
        "\n",
        "# Request and wait for operation done\n",
        "operation = scene_object_import_stub.ImportSceneObject(request)\n",
        "operation = wait_for_operation(operation, operations_stub)\n",
        "\n",
        "# Unpack the response\n",
        "response = scene_object_import_pb2.ImportSceneObjectResponse()\n",
        "operation.response.Unpack(response)\n",
        "\n",
        "# This is the imported Intrinsic SceneObject.\n",
        "scene_object = response.scene_object\n",
        "print(scene_object)\n"
      ],
      "outputs": [],
      "execution_count": null
    },
    {
      "metadata": {
        "id": "y9j-Np7uZM8f"
      },
      "cell_type": "markdown",
      "source": [
        "## Install the `SceneObject` as an asset\n",
        "\n",
        "To utilize the `SceneObject` in a Flowstate solution, we need to install it as an asset. This section demostrates the installation steps."
      ]
    },
    {
      "metadata": {
        "id": "lmG1MyfwkIHL"
      },
      "cell_type": "markdown",
      "source": []
    },
    {
      "metadata": {
        "id": "SW7jdS9HZduf"
      },
      "cell_type": "code",
      "source": [
        "# Protos to construct the installation request\n",
        "from intrinsic.assets.scene_objects.proto import scene_object_manifest_pb2\n",
        "from intrinsic.assets.proto import documentation_pb2\n",
        "from intrinsic.assets.proto import id_pb2\n",
        "from intrinsic.assets.proto import installed_assets_pb2\n",
        "from intrinsic.assets.proto import vendor_pb2\n",
        "\n",
        "# Prepare installation requests\n",
        "manifest = scene_object_manifest_pb2.ProcessedSceneObjectManifest(\n",
        "              metadata=scene_object_manifest_pb2.SceneObjectMetadata(\n",
        "                  id=id_pb2.Id(\n",
        "                      name='new_object',\n",
        "                      package='com.example',\n",
        "                  ),\n",
        "                  display_name='simple_triangle',\n",
        "                  vendor=vendor_pb2.Vendor(\n",
        "                      display_name='Example Vendor',\n",
        "                  ),\n",
        "                  documentation=documentation_pb2.Documentation(\n",
        "                      description='Imported scene object',\n",
        "                  ),\n",
        "              ),\n",
        "              assets=scene_object_manifest_pb2.ProcessedSceneObjectAssets(\n",
        "                  scene_object_model=scene_object\n",
        "              ),\n",
        "          )\n",
        "\n",
        "install_request = installed_assets_pb2.CreateInstalledAssetRequest(\n",
        "    asset=installed_assets_pb2.CreateInstalledAssetRequest.Asset(\n",
        "        scene_object=manifest\n",
        "    ),\n",
        "    policy=installed_assets_pb2.UpdatePolicy.UPDATE_POLICY_ADD_NEW_ONLY,\n",
        ")\n",
        "\n",
        "# Request and wait for operation done\n",
        "operation = installed_assets_stub.CreateInstalledAsset(install_request)\n",
        "operation = wait_for_operation(operation, operations_stub)\n",
        "\n",
        "# Unpack the response\n",
        "installed_asset = installed_assets_pb2.InstalledAsset()\n",
        "operation.response.Unpack(installed_asset)\n",
        "\n",
        "# Print the installed asset.\n",
        "print(installed_asset)\n"
      ],
      "outputs": [],
      "execution_count": null
    },
    {
      "metadata": {
        "id": "w1Y5Ik6vgXUF"
      },
      "cell_type": "markdown",
      "source": [
        "# Import Configurations\n",
        "\n",
        "This section introduces optional configurations for Scene Object import. Use `scene_object_import_pb2.ImportSceneObjectConfig` for setting import options that convert a file to a `SceneObject`.\n",
        "\n",
        "The options are \n",
        "- Applying length unit conversion\n",
        "- Removing collision geometry\n",
        "- Transform imported Scene Object\n",
        "- Geometry import resolution for CAD files with BRep geometry\n",
        "- Material property overrides\n",
        "- Appending custom opaque user data\n"
      ]
    },
    {
      "metadata": {
        "id": "1O54LygrhSlL"
      },
      "cell_type": "markdown",
      "source": [
        "### Define some utilities working with services\n",
        "\n",
        "To simplify following demos, we first consolidate logic for calling `SceneObjectImport` and `InstalledAsset` grpc services for further use."
      ]
    },
    {
      "metadata": {
        "id": "OMwXhL1vuYyn"
      },
      "cell_type": "code",
      "source": [
        "from intrinsic.assets.scene_objects.proto import scene_object_manifest_pb2\n",
        "from intrinsic.assets.proto import vendor_pb2\n",
        "from intrinsic.assets.proto import documentation_pb2\n",
        "from intrinsic.assets.proto import id_pb2\n",
        "from intrinsic.scene.proto.v1 import scene_object_pb2\n",
        "from intrinsic.scene.proto.v1 import scene_object_import_pb2\n",
        "from intrinsic.scene.proto.v1 import scene_object_import_pb2_grpc\n",
        "from intrinsic.assets.proto import installed_assets_pb2\n",
        "from intrinsic.assets.proto import installed_assets_pb2_grpc\n",
        "from google.longrunning import operations_pb2\n",
        "from google.longrunning import operations_pb2_grpc\n",
        "\n",
        "def import_scene_object(\n",
        "    file_data: bytes,\n",
        "    file_type: scene_object_import_pb2.SceneFileData.Type,\n",
        "    config: scene_object_import_pb2.ImportSceneObjectConfig | None,\n",
        "    scene_object_import_stub: scene_object_import_pb2_grpc.SceneObjectImportStub,\n",
        "    operations_stub: operations_pb2_grpc.OperationsStub,\n",
        ") -\u003e scene_object_pb2.SceneObject:\n",
        "    \"\"\"\n",
        "    Imports a scene object using the ImportSceneObject RPC.\n",
        "\n",
        "    Args:\n",
        "        file_data: The raw data of the scene file.\n",
        "        file_type: The type of the scene file.\n",
        "        config: Optional configuration for the import process.\n",
        "        scene_object_import_stub: The gRPC stub for the SceneObjectImport service.\n",
        "        operations_stub: The gRPC stub for the Operations service.\n",
        "\n",
        "    Returns:\n",
        "        The SceneObject imported.\n",
        "    Raises:\n",
        "        RuntimeError: If the operation fails.\n",
        "    \"\"\"\n",
        "    file = scene_object_import_pb2.SceneFileData(\n",
        "        data=file_data,\n",
        "        file_type=file_type,\n",
        "    )\n",
        "    request = scene_object_import_pb2.ImportSceneObjectRequest(\n",
        "        file=file,\n",
        "        config=config,\n",
        "    )\n",
        "\n",
        "    operation = scene_object_import_stub.ImportSceneObject(request)\n",
        "    operation = wait_for_operation(operation, operations_stub)\n",
        "\n",
        "    response = scene_object_import_pb2.ImportSceneObjectResponse()\n",
        "    operation.response.Unpack(response)\n",
        "    return response.scene_object\n",
        "  \n",
        "def install_scene_object(\n",
        "    scene_object: scene_object_pb2.SceneObject,\n",
        "    name: str,\n",
        "    installed_assets_stub: installed_assets_pb2_grpc.InstalledAssetsStub,\n",
        "    operations_stub: operations_pb2_grpc.OperationsStub,\n",
        "    update_policy: installed_assets_pb2.UpdatePolicy = installed_assets_pb2.UpdatePolicy.UPDATE_POLICY_ADD_NEW_ONLY,\n",
        ") -\u003e installed_assets_pb2.InstalledAsset:\n",
        "    \"\"\"\n",
        "    Installs a scene object using the CreateInstalledAsset RPC.\n",
        "\n",
        "    Args:\n",
        "        scene_object: The scene object to install.\n",
        "        name: The name of the scene object. Must be alpha-numeric with only underscores, starting with an alphabetic character.\n",
        "        installed_assets_stub: The gRPC stub for the InstalledAssets service.\n",
        "        operations_stub: The gRPC stub for the Operations service.\n",
        "        update_policy: The update policy to use.\n",
        "\n",
        "    Returns:\n",
        "        The InstalledAsset.\n",
        "    Raises:\n",
        "        RuntimeError: If the operation fails.\n",
        "    \"\"\"\n",
        "    request = installed_assets_pb2.CreateInstalledAssetRequest(\n",
        "        asset=installed_assets_pb2.CreateInstalledAssetRequest.Asset(\n",
        "            scene_object=scene_object_manifest_pb2.ProcessedSceneObjectManifest(\n",
        "              metadata=scene_object_manifest_pb2.SceneObjectMetadata(\n",
        "                  id=id_pb2.Id(\n",
        "                      name=name,\n",
        "                      package='com.example',\n",
        "                  ),\n",
        "                  display_name=name,\n",
        "                  vendor=vendor_pb2.Vendor(\n",
        "                      display_name='Example Vendor',\n",
        "                  ),\n",
        "                  documentation=documentation_pb2.Documentation(\n",
        "                      description='Imported scene object',\n",
        "                  ),\n",
        "              ),\n",
        "              assets=scene_object_manifest_pb2.ProcessedSceneObjectAssets(\n",
        "                  scene_object_model=scene_object\n",
        "              ),\n",
        "          )\n",
        "        ),\n",
        "        policy=update_policy,\n",
        "    )\n",
        "\n",
        "    operation = installed_assets_stub.CreateInstalledAsset(request)\n",
        "    operation = wait_for_operation(operation, operations_stub)    \n",
        "\n",
        "    response = installed_assets_pb2.InstalledAsset()\n",
        "    operation.response.Unpack(response)\n",
        "    return response"
      ],
      "outputs": [],
      "execution_count": null
    },
    {
      "metadata": {
        "id": "XXhSaelwhSQW"
      },
      "cell_type": "markdown",
      "source": []
    },
    {
      "metadata": {
        "id": "-uR5VFTcovM-"
      },
      "cell_type": "markdown",
      "source": [
        "### Apply material properties override\n",
        "\n",
        "To override the material of the imported geometry, use the `material_properties` field to set a custom pbr material. The importer applies this material to all meshes in the import."
      ]
    },
    {
      "metadata": {
        "id": "MsYrwrGruDr9"
      },
      "cell_type": "code",
      "source": [
        "from intrinsic.geometry.proto.v1 import material_pb2\n",
        "from google.type import color_pb2\n",
        "import uuid\n",
        "\n",
        "\n",
        "config = scene_object_import_pb2.ImportSceneObjectConfig(\n",
        "    # Changes the color to shiny red metal.\n",
        "    material_properties= material_pb2.MaterialProperties(\n",
        "        base_color=color_pb2.Color(\n",
        "            red=1.0,\n",
        "            green=0.0,\n",
        "            blue=0.0\n",
        "        ),\n",
        "        metalness = 1.0,\n",
        "        roughness = 0.0,\n",
        "    ),\n",
        "    scene_object_name = \"object_with_material\",\n",
        ")\n",
        "scene_object = import_scene_object(\n",
        "    file_data = simple_obj.encode(),\n",
        "    file_type = scene_object_import_pb2.SceneFileData.Type.OBJ,\n",
        "    config= config,\n",
        "    scene_object_import_stub=scene_object_import_stub,\n",
        "    operations_stub = operations_stub,\n",
        ")\n",
        "\n",
        "installed_asset =install_scene_object(\n",
        "    scene_object=scene_object, \n",
        "    name=f'so_with_material_{uuid.uuid4().hex}',\n",
        "    installed_assets_stub=installed_assets_stub, \n",
        "    operations_stub=operations_stub\n",
        ")\n",
        "print(installed_asset.metadata.id_version)"
      ],
      "outputs": [],
      "execution_count": null
    },
    {
      "metadata": {
        "id": "07r8RT7Aox3F"
      },
      "cell_type": "markdown",
      "source": [
        "### Append custom user data\n",
        "\n",
        "To attach a custom user data field, pass in a `Any` protobuf message wrapping your custom data field. The data will be available in the `WorldObject`s created in the `ObjectWorld`."
      ]
    },
    {
      "metadata": {
        "id": "tMabg18iuc8O"
      },
      "cell_type": "code",
      "source": [
        "import uuid\n",
        "from google.protobuf import any_pb2\n",
        "from intrinsic.math.proto import vector3_pb2\n",
        "\n",
        "my_vector = vector3_pb2.Vector3(x=1.0, y=2.0, z=3.0)\n",
        "user_data_any = any_pb2.Any()\n",
        "user_data_any.Pack(my_vector)\n",
        "\n",
        "\n",
        "config = scene_object_import_pb2.ImportSceneObjectConfig(\n",
        "    user_data = {'my_data': user_data_any},\n",
        "    scene_object_name = \"object_with_user_data\",\n",
        ")\n",
        "scene_object = import_scene_object(\n",
        "    file_data = simple_obj.encode(),\n",
        "    file_type = scene_object_import_pb2.SceneFileData.Type.OBJ,\n",
        "    config= config,\n",
        "    scene_object_import_stub=scene_object_import_stub,\n",
        "    operations_stub = operations_stub,\n",
        ")\n",
        "\n",
        "installed_asset =install_scene_object(\n",
        "    scene_object=scene_object, \n",
        "    name=f'so_with_user_data_{uuid.uuid4().hex}',\n",
        "    installed_assets_stub=installed_assets_stub, \n",
        "    operations_stub=operations_stub\n",
        ")\n",
        "print(installed_asset.metadata.id_version)"
      ],
      "outputs": [],
      "execution_count": null
    },
    {
      "metadata": {
        "id": "Qll0bwOPhYgP"
      },
      "cell_type": "markdown",
      "source": [
        "### Length unit conversion\n",
        "\n",
        "Set `length_unit_conversion` option to uniformly scale imported geometry. By default Flowstate uses meters as length unit. This example demostrates adjusting units of the obj file authored as inches."
      ]
    },
    {
      "metadata": {
        "id": "U4NItMlBmcni"
      },
      "cell_type": "code",
      "source": [
        "import uuid\n",
        "\n",
        "inch_to_m = 0.0254\n",
        "config = scene_object_import_pb2.ImportSceneObjectConfig(\n",
        "    length_unit_conversion=scene_object_import_pb2.LengthUnitConversion(\n",
        "        scale_factor=inch_to_m,\n",
        "    ),\n",
        "    scene_object_name = \"object_with_length_unit_conversion\",\n",
        ")\n",
        "\n",
        "scene_object = import_scene_object(\n",
        "    file_data = simple_obj.encode(),\n",
        "    file_type = scene_object_import_pb2.SceneFileData.Type.OBJ,\n",
        "    config= config,\n",
        "    scene_object_import_stub=scene_object_import_stub,\n",
        "    operations_stub = operations_stub,\n",
        ")\n",
        "\n",
        "installed_asset =install_scene_object(\n",
        "    scene_object=scene_object, \n",
        "    name=f'so_with_length_unit_conversion_{uuid.uuid4().hex}',\n",
        "    installed_assets_stub=installed_assets_stub, \n",
        "    operations_stub=operations_stub\n",
        ")\n",
        "\n",
        "print(installed_asset.metadata.id_version)"
      ],
      "outputs": [],
      "execution_count": null
    },
    {
      "metadata": {
        "id": "qakknxsnngFu"
      },
      "cell_type": "markdown",
      "source": [
        "### Removing collision geometry\n",
        "\n",
        "By default, imported objects have both visual(\"Intrinsic_Visual\") and collision(\"Intrinsic_Collision\") geometries generated. Use the `geometry_operations` field to remove collision geometry by specifying the `Intrinsic_Collision` type."
      ]
    },
    {
      "metadata": {
        "id": "FYd56bGioJGn"
      },
      "cell_type": "code",
      "source": [
        "config = scene_object_import_pb2.ImportSceneObjectConfig(\n",
        "    # To remove the automatically generated collision meshes from the SceneObject\n",
        "    geometry_operations=scene_object_import_pb2.GeometryOperations(\n",
        "        remove_types = [\"Intrinsic_Collision\"]\n",
        "    ),\n",
        "    scene_object_name = \"object_removed_collision\",\n",
        ")\n",
        "scene_object = import_scene_object(\n",
        "    file_data = simple_obj.encode(),\n",
        "    file_type = scene_object_import_pb2.SceneFileData.Type.OBJ,\n",
        "    config= config,\n",
        "    scene_object_import_stub=scene_object_import_stub,\n",
        "    operations_stub = operations_stub,\n",
        ")\n",
        "\n",
        "installed_asset =install_scene_object(\n",
        "    scene_object=scene_object, \n",
        "    name=f'so_removed_collision_{uuid.uuid4().hex}',\n",
        "    installed_assets_stub=installed_assets_stub, \n",
        "    operations_stub=operations_stub\n",
        ")\n",
        "print(installed_asset.metadata.id_version)"
      ],
      "outputs": [],
      "execution_count": null
    }
  ],
  "metadata": {
    "colab": {
      "private_outputs": true
    }
  },
  "nbformat": 4,
  "nbformat_minor": 0
}
