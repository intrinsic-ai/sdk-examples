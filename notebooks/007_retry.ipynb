{
 "cells": [
  {
   "cell_type": "markdown",
   "metadata": {
    "colab_type": "text",
    "id": "LTXQHL4YFU"
   },
   "source": [
    "# Pick and place with retries and recovery example\n",
    "\n",
    "This example notebook demonstrates how to react to failures by trying to estimate the pose of an object and using various strategies to recover from detection failures.\n",
    "\n",
    "In particular, this example covers:\n",
    "\n",
    "- Behavior tree nodes\n",
    "    - `Retry` with max retry count\n",
    "    - `Retry` with `recovery` option\n",
    "    - `Fallback`\n",
    "    - `Selector` with `Decorators`\n",
    "    - `Fail`\n",
    "\n",
    "<div class=\"alert alert-info\">\n",
    "\n",
    "**Important**\n",
    "\n",
    "This notebook requires a running Flowstate solution to connect to. To start a solution:\n",
    "\n",
    "1. Navigate to [flowstate.intrinsic.ai](https://flowstate.intrinsic.ai/) and sign in\n",
    "   using your registered Flowstate account.\n",
    "\n",
    "1. Do **one** of the following:\n",
    "    - Create a new solution:\n",
    "        1. Click \"Create new solution\" and choose \"From an example\".\n",
    "        1. Select `pick_and_place:pick_and_place_module2`\n",
    "        1. Click \"Create\".\n",
    "    - Or open an existing solution that was created from the `pick_and_place:pick_and_place_module2` example:\n",
    "        1. Hover over the solution in the list.\n",
    "        1. Click \"Open solution\" or \"Start solution\".\n",
    "\n",
    "1. Recommended: Keep the browser tab with the Flowstate solution editor open to watch the effect of notebook actions such as running a skill. You can simultaneously interact with the solution through the web UI and the notebook.\n",
    "\n",
    "</div>"
   ]
  },
  {
   "cell_type": "markdown",
   "metadata": {
    "colab_type": "text",
    "id": "DJP8FTBQM5"
   },
   "source": [
    "First, connect to your solution and define convenience shortcuts:"
   ]
  },
  {
   "cell_type": "code",
   "execution_count": null,
   "metadata": {
    "colab_type": "code",
    "id": "XT595C04LE"
   },
   "outputs": [],
   "source": [
    "from intrinsic.math.python import data_types\n",
    "from intrinsic.solutions import deployments\n",
    "from intrinsic.solutions import behavior_tree as bt\n",
    "\n",
    "solution = deployments.connect_to_selected_solution()\n",
    "\n",
    "executive = solution.executive\n",
    "resources = solution.resources\n",
    "skills = solution.skills\n",
    "world = solution.world\n",
    "simulator = solution.simulator\n",
    "pose_estimators = solution.pose_estimators\n",
    "\n",
    "enable_gripper = skills.ai.intrinsic.enable_gripper\n",
    "estimate_and_update_pose = skills.ai.intrinsic.estimate_and_update_pose\n",
    "move_robot = skills.ai.intrinsic.move_robot"
   ]
  },
  {
   "cell_type": "markdown",
   "metadata": {
    "colab_type": "text",
    "id": "HAPWVGRE74"
   },
   "source": [
    "Then, create the required skill instances:"
   ]
  },
  {
   "cell_type": "code",
   "execution_count": null,
   "metadata": {
    "colab_type": "code",
    "id": "RZFJ4HVO6R"
   },
   "outputs": [],
   "source": [
    "enable_gripper = enable_gripper(\n",
    "    clear_faults=True, gripper=resources.picobot_gripper)\n",
    "\n",
    "move_home = move_robot(\n",
    "    motion_segments=[\n",
    "        move_robot.intrinsic_proto.skills.MotionSegment(\n",
    "            joint_position=world.robot.joint_configurations.home,\n",
    "            motion_type=move_robot.intrinsic_proto.skills.MotionSegment.MotionType.ANY,\n",
    "        )\n",
    "    ]\n",
    ")\n",
    "\n",
    "move_view_pose_left = move_robot(\n",
    "    motion_segments=[\n",
    "        move_robot.intrinsic_proto.skills.MotionSegment(\n",
    "            joint_position=world.robot.joint_configurations.view_pose_left,\n",
    "            motion_type=move_robot.intrinsic_proto.skills.MotionSegment.MotionType.ANY,\n",
    "        )\n",
    "    ]\n",
    ")\n",
    "\n",
    "move_view_pose_right = move_robot(\n",
    "    motion_segments=[\n",
    "        move_robot.intrinsic_proto.skills.MotionSegment(\n",
    "            joint_position=world.robot.joint_configurations.view_pose_right,\n",
    "            motion_type=move_robot.intrinsic_proto.skills.MotionSegment.MotionType.ANY,\n",
    "        )\n",
    "    ]\n",
    ")\n",
    "\n",
    "# Moves the building block in the belief world to its estimated position from\n",
    "# camera image of the simulated/real world. Fails if the object cannot be found.\n",
    "estimate_pose = estimate_and_update_pose(\n",
    "    pose_estimator=pose_estimators.building_block_ml_estimator,\n",
    "    object=world.building_block0,\n",
    "    camera=resources.wrist_camera,\n",
    ")"
   ]
  },
  {
   "cell_type": "markdown",
   "metadata": {
    "colab_type": "text",
    "id": "71LQJUMQ86"
   },
   "source": [
    "## Simple retry to ensure successful detection of object\n",
    "\n",
    "First, we create and run a behavior tree which uses a `Retry` node to retry the `estimate_pose` skill for up to a given number of times. If the skill were to fail (e.g. because of instable lighting conditions) it would be retried up to the given limit:"
   ]
  },
  {
   "cell_type": "code",
   "execution_count": null,
   "metadata": {
    "colab_type": "code",
    "id": "YXEBJD40SB"
   },
   "outputs": [],
   "source": [
    "world.reset()\n",
    "\n",
    "estimate_with_retry = bt.Retry(\n",
    "    max_tries=3, child=bt.Task(action=estimate_pose, name=\"Estimate pose\")\n",
    ")\n",
    "\n",
    "retry_3_times = bt.BehaviorTree(\n",
    "    name=\"Retry 3 times\",\n",
    "    root=bt.Sequence(\n",
    "        [\n",
    "            bt.Task(action=move_view_pose_left, name=\"Move to view pose\"),\n",
    "            estimate_with_retry,\n",
    "        ]\n",
    "    ),\n",
    ")\n",
    "\n",
    "executive.run(retry_3_times)"
   ]
  },
  {
   "cell_type": "markdown",
   "metadata": {
    "colab_type": "text",
    "id": "SX2HWITX29"
   },
   "source": [
    "## Retry with recovery\n",
    "\n",
    "If an iteration of `Retry` fails, you can set a `recovery` node that will be executed before each retry:"
   ]
  },
  {
   "cell_type": "code",
   "execution_count": null,
   "metadata": {
    "colab_type": "code",
    "id": "UQYTF105OJ"
   },
   "outputs": [],
   "source": [
    "world.reset()\n",
    "simulator.reset()\n",
    "\n",
    "# Recovery: Moving to a pose from which the object is visible will help!\n",
    "move_to_view_pose_recovery = bt.Task(\n",
    "    action=move_view_pose_left, name=\"Move to view pose\"\n",
    ")\n",
    "\n",
    "estimate_and_move_with_recovery = bt.Retry(\n",
    "    max_tries=2,\n",
    "    child=bt.Task(action=estimate_pose, name=\"Estimate pose\"),\n",
    "    recovery=move_to_view_pose_recovery,\n",
    ")\n",
    "\n",
    "retry_with_recovery = bt.BehaviorTree(\n",
    "    name=\"Retry with recovery\",\n",
    "    root=bt.Sequence(\n",
    "        [\n",
    "            # Initially move to a position from which object is not visible.\n",
    "            bt.Task(action=move_home, name=\"Move to bad position\"),\n",
    "            estimate_and_move_with_recovery,\n",
    "        ]\n",
    "    ),\n",
    ")\n",
    "\n",
    "executive.run(retry_with_recovery)"
   ]
  },
  {
   "cell_type": "markdown",
   "metadata": {
    "colab_type": "text",
    "id": "KDXSU7L5PF"
   },
   "source": [
    "## Retry with counter\n",
    "\n",
    "The following shows an advanced recovery strategy: We try `estimate_pose` four times, executing a different recovery attempt after each try by using the `retry_counter` of the `Retry` node in combination with a `Selector` node and `Decorators`."
   ]
  },
  {
   "cell_type": "code",
   "execution_count": null,
   "metadata": {
    "colab_type": "code",
    "id": "ZC15PN1CPJ"
   },
   "outputs": [],
   "source": [
    "world.reset()\n",
    "simulator.reset()\n",
    "\n",
    "# Recovery attempt 1: Enabling the gripper will *not* help.\n",
    "recovery1 = bt.Task(action=enable_gripper, name=\"Recovery 1: Gripper\")\n",
    "\n",
    "# Recovery attempt 2: Moving to the wrong view pose will *not* help.\n",
    "recovery2 = bt.Task(action=move_view_pose_right, name=\"Recovery 2: Move R\")\n",
    "\n",
    "# Recovery attempt 3: Moving to the correct view pose will help.\n",
    "recovery3 = bt.Task(action=move_view_pose_left, name=\"Recovery 3: Move L\")\n",
    "\n",
    "# The Fallback node executes a sequence of actions up to the first action that succeeds.\n",
    "# Because we setup the last action to always fail and we use a Retry node, we effectively\n",
    "# retry `estimate_pose` until it succeeds.\n",
    "estimate_with_recovery = bt.Fallback(\n",
    "    [\n",
    "        bt.Task(action=estimate_pose, name=\"Try estimate pose\"),\n",
    "        bt.Sequence(\n",
    "            [\n",
    "                # The Selector node executes the first action whose decorator condition evaluates\n",
    "                # to true (see below).\n",
    "                bt.Selector([recovery1, recovery2, recovery3]),\n",
    "                # Failing the Fallback node causes the parent Retry node to retry.\n",
    "                bt.Fail(failure_message=\"Recovery attempted, triggering retry\"),\n",
    "            ]\n",
    "        ),\n",
    "    ]\n",
    ")\n",
    "estimate_and_recover = bt.Retry(max_tries=4, child=estimate_with_recovery)\n",
    "\n",
    "# Set up the decorator conditions based on the Retry counter so that in every Retry iteration we\n",
    "# use a different retry strategy.\n",
    "recovery1.set_decorators(\n",
    "    bt.Decorators(bt.Blackboard(f\"{estimate_and_recover.retry_counter} == 0\"))\n",
    ")\n",
    "recovery2.set_decorators(\n",
    "    bt.Decorators(bt.Blackboard(f\"{estimate_and_recover.retry_counter} == 1\"))\n",
    ")\n",
    "recovery3.set_decorators(\n",
    "    bt.Decorators(bt.Blackboard(f\"{estimate_and_recover.retry_counter} == 2\"))\n",
    ")\n",
    "\n",
    "retry_with_counter = bt.BehaviorTree(\n",
    "    name=\"Retry with counter\",\n",
    "    root=bt.Sequence(\n",
    "        [\n",
    "            # Initially move to a position from which object is not visible.\n",
    "            bt.Task(action=move_home, name=\"Move to bad position\"),\n",
    "            estimate_and_recover,\n",
    "        ]\n",
    "    ),\n",
    ")\n",
    "\n",
    "executive.run(retry_with_counter)"
   ]
  }
 ],
 "metadata": {
  "colab": {},
  "kernelspec": {
   "display_name": "Python 3",
   "language": "python",
   "name": "python3"
  },
  "language_info": {
   "codemirror_mode": {
    "name": "ipython",
    "version": 3
   },
   "file_extension": ".py",
   "mimetype": "text/x-python",
   "name": "python",
   "nbconvert_exporter": "python",
   "pygments_lexer": "ipython3",
   "version": "3.11.9"
  }
 },
 "nbformat": 4,
 "nbformat_minor": 2
}
